{
  "nbformat": 4,
  "nbformat_minor": 0,
  "metadata": {
    "colab": {
      "name": "BasicCnnConv2D.ipynb",
      "provenance": [],
      "collapsed_sections": [],
      "authorship_tag": "ABX9TyPH4YUOlZol0PW9BDiuyrvt",
      "include_colab_link": true
    },
    "kernelspec": {
      "name": "python3",
      "display_name": "Python 3"
    }
  },
  "cells": [
    {
      "cell_type": "markdown",
      "metadata": {
        "id": "view-in-github",
        "colab_type": "text"
      },
      "source": [
        "<a href=\"https://colab.research.google.com/github/manavrawat10/Basic-Machine-Learning/blob/master/BasicCnnConv2D.ipynb\" target=\"_parent\"><img src=\"https://colab.research.google.com/assets/colab-badge.svg\" alt=\"Open In Colab\"/></a>"
      ]
    },
    {
      "cell_type": "code",
      "metadata": {
        "id": "ZaFQHdKzTX3T",
        "colab_type": "code",
        "colab": {
          "base_uri": "https://localhost:8080/",
          "height": 756
        },
        "outputId": "5baa45be-08b7-4883-a797-c2b905cca95f"
      },
      "source": [
        "import tensorflow as tf\n",
        "import numpy as np\n",
        "\n",
        "# load fashion dataset\n",
        "fashion_mnist = tf.keras.datasets.fashion_mnist\n",
        "(training_images, training_labels), (test_images, test_labels) = fashion_mnist.load_data()\n",
        "\n",
        "# normalizing images\n",
        "training_images = np.asarray(training_images/255.0).reshape(-1,28, 28, 1)\n",
        "test_images = np.asarray(test_images/255.0).reshape(-1,28, 28, 1)\n",
        "\n",
        "# create model\n",
        "model = tf.keras.models.Sequential([\n",
        "                                    tf.keras.layers.Conv2D(64, (3,3), activation=tf.nn.relu, input_shape=(28,28,1)),\n",
        "                                    tf.keras.layers.MaxPooling2D(2,2),\n",
        "                                    tf.keras.layers.Conv2D(64,(3,3), activation=tf.nn.relu),\n",
        "                                    tf.keras.layers.MaxPooling2D(2,2),\n",
        "                                   tf.keras.layers.Flatten(),\n",
        "                                   tf.keras.layers.Dense(128, activation = tf.nn.relu),\n",
        "                                   tf.keras.layers.Dense(10, activation = tf.nn.softmax)\n",
        "])\n",
        "\n",
        "# model summary\n",
        "model.summary()\n",
        "\n",
        "# compile model\n",
        "model.compile(optimizer = \"sgd\", loss = \"sparse_categorical_crossentropy\", metrics = [\"accuracy\"])\n",
        "\n",
        "# train model\n",
        "model.fit(training_images[0::], training_labels[0::], epochs=5)\n",
        "\n",
        "# evaluate model\n",
        "print(\"test loss and test accuracy = {}\".format(model.evaluate(test_images, test_labels)))\n",
        "print(\"Predict for test image 10: {} and golden value is {}\".format(model.predict(test_images[:3]), test_labels[:3]))"
      ],
      "execution_count": 12,
      "outputs": [
        {
          "output_type": "stream",
          "text": [
            "Model: \"sequential_10\"\n",
            "_________________________________________________________________\n",
            "Layer (type)                 Output Shape              Param #   \n",
            "=================================================================\n",
            "conv2d_20 (Conv2D)           (None, 26, 26, 64)        640       \n",
            "_________________________________________________________________\n",
            "max_pooling2d_20 (MaxPooling (None, 13, 13, 64)        0         \n",
            "_________________________________________________________________\n",
            "conv2d_21 (Conv2D)           (None, 11, 11, 64)        36928     \n",
            "_________________________________________________________________\n",
            "max_pooling2d_21 (MaxPooling (None, 5, 5, 64)          0         \n",
            "_________________________________________________________________\n",
            "flatten_10 (Flatten)         (None, 1600)              0         \n",
            "_________________________________________________________________\n",
            "dense_20 (Dense)             (None, 128)               204928    \n",
            "_________________________________________________________________\n",
            "dense_21 (Dense)             (None, 10)                1290      \n",
            "=================================================================\n",
            "Total params: 243,786\n",
            "Trainable params: 243,786\n",
            "Non-trainable params: 0\n",
            "_________________________________________________________________\n",
            "Train on 60000 samples\n",
            "Epoch 1/5\n",
            "60000/60000 [==============================] - 85s 1ms/sample - loss: 0.8739 - acc: 0.6830\n",
            "Epoch 2/5\n",
            "60000/60000 [==============================] - 85s 1ms/sample - loss: 0.5496 - acc: 0.7942\n",
            "Epoch 3/5\n",
            "60000/60000 [==============================] - 85s 1ms/sample - loss: 0.4754 - acc: 0.8264\n",
            "Epoch 4/5\n",
            "60000/60000 [==============================] - 85s 1ms/sample - loss: 0.4312 - acc: 0.8435\n",
            "Epoch 5/5\n",
            "60000/60000 [==============================] - 85s 1ms/sample - loss: 0.4005 - acc: 0.8552\n",
            "10000/10000 [==============================] - 4s 432us/sample - loss: 0.4258 - acc: 0.8461\n",
            "test loss and test accuracy = [0.4257872512578964, 0.8461]\n",
            "Predict for test image 10: [[1.22207475e-05 1.07905180e-06 2.97495244e-05 6.23612796e-05\n",
            "  2.05759843e-05 4.81080189e-02 4.10673056e-05 2.63509154e-01\n",
            "  5.43580437e-03 6.82779968e-01]\n",
            " [1.39428687e-03 2.36644098e-07 9.94196177e-01 2.68211879e-04\n",
            "  5.10902202e-04 4.26547189e-07 3.58523638e-03 4.76786006e-08\n",
            "  4.44336947e-05 1.75478743e-08]\n",
            " [3.09879397e-07 9.99969244e-01 8.47931403e-07 2.34316049e-05\n",
            "  5.72158615e-06 2.17231019e-07 4.39508732e-08 1.88600957e-09\n",
            "  7.30730108e-08 3.45083906e-10]] and golden value is [9 2 1]\n"
          ],
          "name": "stdout"
        }
      ]
    }
  ]
}