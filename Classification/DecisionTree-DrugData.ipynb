{
 "cells": [
  {
   "cell_type": "code",
   "execution_count": 1,
   "metadata": {},
   "outputs": [
    {
     "data": {
      "text/html": [
       "<div>\n",
       "<style scoped>\n",
       "    .dataframe tbody tr th:only-of-type {\n",
       "        vertical-align: middle;\n",
       "    }\n",
       "\n",
       "    .dataframe tbody tr th {\n",
       "        vertical-align: top;\n",
       "    }\n",
       "\n",
       "    .dataframe thead th {\n",
       "        text-align: right;\n",
       "    }\n",
       "</style>\n",
       "<table border=\"1\" class=\"dataframe\">\n",
       "  <thead>\n",
       "    <tr style=\"text-align: right;\">\n",
       "      <th></th>\n",
       "      <th>Age</th>\n",
       "      <th>Sex</th>\n",
       "      <th>BP</th>\n",
       "      <th>Cholesterol</th>\n",
       "      <th>Na_to_K</th>\n",
       "      <th>Drug</th>\n",
       "    </tr>\n",
       "  </thead>\n",
       "  <tbody>\n",
       "    <tr>\n",
       "      <th>0</th>\n",
       "      <td>23</td>\n",
       "      <td>F</td>\n",
       "      <td>HIGH</td>\n",
       "      <td>HIGH</td>\n",
       "      <td>25.355</td>\n",
       "      <td>drugY</td>\n",
       "    </tr>\n",
       "    <tr>\n",
       "      <th>1</th>\n",
       "      <td>47</td>\n",
       "      <td>M</td>\n",
       "      <td>LOW</td>\n",
       "      <td>HIGH</td>\n",
       "      <td>13.093</td>\n",
       "      <td>drugC</td>\n",
       "    </tr>\n",
       "    <tr>\n",
       "      <th>2</th>\n",
       "      <td>47</td>\n",
       "      <td>M</td>\n",
       "      <td>LOW</td>\n",
       "      <td>HIGH</td>\n",
       "      <td>10.114</td>\n",
       "      <td>drugC</td>\n",
       "    </tr>\n",
       "    <tr>\n",
       "      <th>3</th>\n",
       "      <td>28</td>\n",
       "      <td>F</td>\n",
       "      <td>NORMAL</td>\n",
       "      <td>HIGH</td>\n",
       "      <td>7.798</td>\n",
       "      <td>drugX</td>\n",
       "    </tr>\n",
       "    <tr>\n",
       "      <th>4</th>\n",
       "      <td>61</td>\n",
       "      <td>F</td>\n",
       "      <td>LOW</td>\n",
       "      <td>HIGH</td>\n",
       "      <td>18.043</td>\n",
       "      <td>drugY</td>\n",
       "    </tr>\n",
       "  </tbody>\n",
       "</table>\n",
       "</div>"
      ],
      "text/plain": [
       "   Age Sex      BP Cholesterol  Na_to_K   Drug\n",
       "0   23   F    HIGH        HIGH   25.355  drugY\n",
       "1   47   M     LOW        HIGH   13.093  drugC\n",
       "2   47   M     LOW        HIGH   10.114  drugC\n",
       "3   28   F  NORMAL        HIGH    7.798  drugX\n",
       "4   61   F     LOW        HIGH   18.043  drugY"
      ]
     },
     "execution_count": 1,
     "metadata": {},
     "output_type": "execute_result"
    }
   ],
   "source": [
    "# load ythe data from csv\n",
    "\n",
    "import pandas as pd\n",
    "df=pd.read_csv(\"drug200.csv\")\n",
    "df.head()"
   ]
  },
  {
   "cell_type": "code",
   "execution_count": 4,
   "metadata": {},
   "outputs": [
    {
     "name": "stdout",
     "output_type": "stream",
     "text": [
      "Drug\n",
      "drugA    23\n",
      "drugB    16\n",
      "drugC    16\n",
      "drugX    54\n",
      "drugY    91\n",
      "Name: Drug, dtype: int64\n"
     ]
    },
    {
     "data": {
      "image/png": "[encoded data removed]",
      "text/plain": [
       "<matplotlib.figure.Figure at 0x280541e4d68>"
      ]
     },
     "metadata": {},
     "output_type": "display_data"
    }
   ],
   "source": [
    "# categozire and check the values of each drug\n",
    "\n",
    "data=df.groupby(\"Drug\").Drug.count()\n",
    "print(data)\n",
    "\n",
    "import matplotlib.pyplot as plt\n",
    "%matplotlib inline\n",
    "data.plot.bar()\n",
    "plt.show()"
   ]
  },
  {
   "cell_type": "code",
   "execution_count": 11,
   "metadata": {},
   "outputs": [
    {
     "name": "stdout",
     "output_type": "stream",
     "text": [
      "   Age Sex      BP Cholesterol  Na_to_K   Drug  sex_n  bp_n  cholesterol_n\n",
      "0   23   F    HIGH        HIGH   25.355  drugY      0     0              0\n",
      "1   47   M     LOW        HIGH   13.093  drugC      1     1              0\n",
      "2   47   M     LOW        HIGH   10.114  drugC      1     1              0\n",
      "3   28   F  NORMAL        HIGH    7.798  drugX      0     2              0\n",
      "4   61   F     LOW        HIGH   18.043  drugY      0     1              0\n"
     ]
    }
   ],
   "source": [
    "# conver the categorical data into numeric form\n",
    "\n",
    "df['sex_n']=df['Sex'].factorize()[0]\n",
    "df['bp_n']=df['BP'].factorize()[0]\n",
    "df['cholesterol_n']=df['Cholesterol'].factorize()[0]\n",
    "print(df.head())"
   ]
  },
  {
   "cell_type": "code",
   "execution_count": 13,
   "metadata": {},
   "outputs": [
    {
     "name": "stdout",
     "output_type": "stream",
     "text": [
      "   sex_n  bp_n  cholesterol_n  Age\n",
      "0      0     0              0   23\n",
      "1      1     1              0   47\n",
      "2      1     1              0   47\n",
      "3      0     2              0   28\n",
      "4      0     1              0   61\n",
      "    Drug\n",
      "0  drugY\n",
      "1  drugC\n",
      "2  drugC\n",
      "3  drugX\n",
      "4  drugY\n"
     ]
    }
   ],
   "source": [
    "# Extract the relevant columns\n",
    "\n",
    "feature_names=['sex_n', 'bp_n','cholesterol_n','Age']\n",
    "X=df[feature_names]\n",
    "y=df[['Drug']]\n",
    "print(X.head())\n",
    "print(y.head())"
   ]
  },
  {
   "cell_type": "code",
   "execution_count": 17,
   "metadata": {},
   "outputs": [
    {
     "name": "stdout",
     "output_type": "stream",
     "text": [
      "[[-1.040833   -1.11016894 -0.97043679 -1.29159102]\n",
      " [ 0.96076892  0.10979693 -0.97043679  0.16269866]\n",
      " [ 0.96076892  0.10979693 -0.97043679  0.16269866]\n",
      " [-1.040833    1.32976279 -0.97043679 -0.988614  ]\n",
      " [-1.040833    0.10979693 -0.97043679  1.0110343 ]]\n"
     ]
    }
   ],
   "source": [
    "# normalize the data for better training\n",
    "\n",
    "from sklearn.preprocessing import StandardScaler\n",
    "X=StandardScaler().fit(X).transform(X.astype('float'))\n",
    "print(X[:5])"
   ]
  },
  {
   "cell_type": "code",
   "execution_count": 18,
   "metadata": {},
   "outputs": [
    {
     "name": "stdout",
     "output_type": "stream",
     "text": [
      "(150, 4) (50, 4)\n",
      "(150, 1) (50, 1)\n"
     ]
    }
   ],
   "source": [
    "# split the data for train and test\n",
    "\n",
    "from sklearn.model_selection import train_test_split\n",
    "X_train,X_test,y_train,y_test=train_test_split(X,y)\n",
    "print(X_train.shape,X_test.shape)\n",
    "print(y_train.shape,y_test.shape)"
   ]
  },
  {
   "cell_type": "code",
   "execution_count": 21,
   "metadata": {},
   "outputs": [
    {
     "name": "stdout",
     "output_type": "stream",
     "text": [
      "['drugY' 'drugY' 'drugY' 'drugX' 'drugY']\n"
     ]
    }
   ],
   "source": [
    "# Classification using Descision tree\n",
    "\n",
    "from sklearn.tree import DecisionTreeClassifier\n",
    "clf=DecisionTreeClassifier(criterion=\"entropy\", max_depth = 4)\n",
    "clf.fit(X_train,y_train)\n",
    "y_pred=clf.predict(X_test)\n",
    "print(y_pred[:5])"
   ]
  },
  {
   "cell_type": "code",
   "execution_count": 22,
   "metadata": {},
   "outputs": [
    {
     "name": "stdout",
     "output_type": "stream",
     "text": [
      "0.6466666666666666\n",
      "0.42\n"
     ]
    }
   ],
   "source": [
    "# Calculating accurancy of decision tree\n",
    "\n",
    "from sklearn.metrics import accuracy_score\n",
    "train_acc=accuracy_score(y_train, clf.predict(X_train))\n",
    "test_acc=accuracy_score(y_test,y_pred)\n",
    "print(train_acc)\n",
    "print(test_acc)"
   ]
  },
  {
   "cell_type": "code",
   "execution_count": 27,
   "metadata": {},
   "outputs": [
    {
     "name": "stdout",
     "output_type": "stream",
     "text": [
      "Max accurancy is at max_depth= 5\n",
      "Max accuracy is :  0.56\n"
     ]
    },
    {
     "data": {
      "image/png": "[encoded data removed]",
      "text/plain": [
       "<matplotlib.figure.Figure at 0x2805c54dcf8>"
      ]
     },
     "metadata": {},
     "output_type": "display_data"
    }
   ],
   "source": [
    "# calcualte the suitable value of the max_depth\n",
    "\n",
    "score=[]\n",
    "for d in range(1,20):\n",
    "    clf=DecisionTreeClassifier(criterion=\"entropy\", max_depth = d)\n",
    "    clf.fit(X_train,y_train)\n",
    "    score.append(accuracy_score(y_test,clf.predict(X_test)))\n",
    "print(\"Max accurancy is at max_depth=\",score.index(max(score)))\n",
    "print(\"Max accuracy is : \",max(score) )\n",
    "\n",
    "plt.plot(range(19), score)\n",
    "plt.show()"
   ]
  },
  {
   "cell_type": "code",
   "execution_count": null,
   "metadata": {},
   "outputs": [],
   "source": []
  }
 ],
 "metadata": {
  "kernelspec": {
   "display_name": "Python 3",
   "language": "python",
   "name": "python3"
  },
  "language_info": {
   "codemirror_mode": {
    "name": "ipython",
    "version": 3
   },
   "file_extension": ".py",
   "mimetype": "text/x-python",
   "name": "python",
   "nbconvert_exporter": "python",
   "pygments_lexer": "ipython3",
   "version": "3.6.4"
  }
 },
 "nbformat": 4,
 "nbformat_minor": 2
}
