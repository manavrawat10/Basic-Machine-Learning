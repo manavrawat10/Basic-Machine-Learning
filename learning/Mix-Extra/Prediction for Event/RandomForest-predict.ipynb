{
 "cells": [
  {
   "cell_type": "markdown",
   "metadata": {},
   "source": [
    "# Predicting event count using random forest"
   ]
  },
  {
   "cell_type": "code",
   "execution_count": 5,
   "metadata": {},
   "outputs": [],
   "source": [
    "import pandas as pd\n",
    "import numpy as np\n",
    "from sklearn.ensemble import RandomForestRegressor"
   ]
  },
  {
   "cell_type": "code",
   "execution_count": 66,
   "metadata": {},
   "outputs": [],
   "source": [
    "dt=[{\"resource\":\"avmsbusqlvm\",\"classification\":\"Availability\",\"date\":\"2018-06-29\",\"count\":7},\n",
    "{\"resource\":\"10.236.220.117\",\"classification\":\"Generic\",\"date\":\"2018-06-29\",\"count\":12},\n",
    "{\"resource\":\"10.236.220.117\",\"classification\":\"Capacity\",\"date\":\"2018-06-29\",\"count\":11},\n",
    "{\"resource\":\"avmsbusqlvm\",\"classification\":\"Generic\",\"date\":\"2018-06-29\",\"count\":7},\n",
    "{\"resource\":\"10.236.220.117\",\"classification\":\"Availability\",\"date\":\"2018-06-29\",\"count\":7},\n",
    "{\"resource\":\"avmsbusqlvm\",\"classification\":\"Capacity\",\"date\":\"2018-06-29\",\"count\":18},\n",
    "{\"resource\":\"10.236.220.18\",\"classification\":\"Performance\",\"date\":\"2018-06-29\",\"count\":10},\n",
    "{\"resource\":\"10.57.110.87\",\"classification\":\"Performance\",\"date\":\"2018-06-29\",\"count\":2},\n",
    "{\"resource\":\"10.236.220.117\",\"classification\":\"Performance\",\"date\":\"2018-06-29\",\"count\":4},\n",
    "{\"resource\":\"10.236.220.18\",\"classification\":\"Availability\",\"date\":\"2018-06-29\",\"count\":10},\n",
    "{\"resource\":\"10.57.110.87\",\"classification\":\"Availability\",\"date\":\"2018-06-29\",\"count\":3},\n",
    "{\"resource\":\"avmsbusqlvm\",\"classification\":\"Performance\",\"date\":\"2018-06-29\",\"count\":7},\n",
    "{\"resource\":\"10.236.220.18\",\"classification\":\"Generic\",\"date\":\"2018-06-29\",\"count\":5},\n",
    "{\"resource\":\"10.236.220.18\",\"classification\":\"Capacity\",\"date\":\"2018-06-29\",\"count\":12},\n",
    "{\"resource\":\"avmsbusqlvm\",\"classification\":\"Availability\",\"date\":\"2018-06-28\",\"count\":11},\n",
    "{\"resource\":\"10.236.220.117\",\"classification\":\"Generic\",\"date\":\"2018-06-28\",\"count\":10},\n",
    "{\"resource\":\"10.236.220.117\",\"classification\":\"Capacity\",\"date\":\"2018-06-28\",\"count\":8},\n",
    "{\"resource\":\"avmsbusqlvm\",\"classification\":\"Generic\",\"date\":\"2018-06-28\",\"count\":12},\n",
    "{\"resource\":\"10.236.220.117\",\"classification\":\"Availability\",\"date\":\"2018-06-28\",\"count\":9},\n",
    "{\"resource\":\"avmsbusqlvm\",\"classification\":\"Capacity\",\"date\":\"2018-06-28\",\"count\":10},\n",
    "{\"resource\":\"10.236.220.18\",\"classification\":\"Performance\",\"date\":\"2018-06-28\",\"count\":18},\n",
    "{\"resource\":\"10.57.110.87\",\"classification\":\"Performance\",\"date\":\"2018-06-28\",\"count\":5},\n",
    "{\"resource\":\"10.236.220.117\",\"classification\":\"Performance\",\"date\":\"2018-06-28\",\"count\":9},\n",
    "{\"resource\":\"10.236.220.18\",\"classification\":\"Availability\",\"date\":\"2018-06-28\",\"count\":14},\n",
    "{\"resource\":\"10.57.110.87\",\"classification\":\"Availability\",\"date\":\"2018-06-28\",\"count\":6},\n",
    "{\"resource\":\"avmsbusqlvm\",\"classification\":\"Performance\",\"date\":\"2018-06-28\",\"count\":10},\n",
    "{\"resource\":\"10.236.220.18\",\"classification\":\"Generic\",\"date\":\"2018-06-28\",\"count\":9},\n",
    "{\"resource\":\"10.236.220.18\",\"classification\":\"Capacity\",\"date\":\"2018-06-28\",\"count\":10},\n",
    "{\"resource\":\"avmsbusqlvm\",\"classification\":\"Availability\",\"date\":\"2018-06-27\",\"count\":13},\n",
    "{\"resource\":\"10.236.220.117\",\"classification\":\"Generic\",\"date\":\"2018-06-27\",\"count\":12},\n",
    "{\"resource\":\"10.236.220.117\",\"classification\":\"Capacity\",\"date\":\"2018-06-27\",\"count\":10},\n",
    "{\"resource\":\"avmsbusqlvm\",\"classification\":\"Generic\",\"date\":\"2018-06-27\",\"count\":15},\n",
    "{\"resource\":\"10.236.220.117\",\"classification\":\"Availability\",\"date\":\"2018-06-27\",\"count\":18},\n",
    "{\"resource\":\"avmsbusqlvm\",\"classification\":\"Capacity\",\"date\":\"2018-06-27\",\"count\":12},\n",
    "{\"resource\":\"10.236.220.18\",\"classification\":\"Performance\",\"date\":\"2018-06-27\",\"count\":10},\n",
    "{\"resource\":\"10.57.110.87\",\"classification\":\"Performance\",\"date\":\"2018-06-27\",\"count\":15},\n",
    "{\"resource\":\"10.236.220.117\",\"classification\":\"Performance\",\"date\":\"2018-06-27\",\"count\":19},\n",
    "{\"resource\":\"10.236.220.18\",\"classification\":\"Availability\",\"date\":\"2018-06-27\",\"count\":4},\n",
    "{\"resource\":\"10.57.110.87\",\"classification\":\"Availability\",\"date\":\"2018-06-27\",\"count\":16},\n",
    "{\"resource\":\"avmsbusqlvm\",\"classification\":\"Performance\",\"date\":\"2018-06-27\",\"count\":13},\n",
    "{\"resource\":\"10.236.220.18\",\"classification\":\"Generic\",\"date\":\"2018-06-27\",\"count\":6},\n",
    "{\"resource\":\"10.236.220.18\",\"classification\":\"Capacity\",\"date\":\"2018-06-27\",\"count\":9},\n",
    "{\"resource\":\"avmsbusqlvm\",\"classification\":\"Availability\",\"date\":\"2018-06-26\",\"count\":18},\n",
    "{\"resource\":\"10.236.220.117\",\"classification\":\"Generic\",\"date\":\"2018-06-26\",\"count\":19},\n",
    "{\"resource\":\"10.236.220.117\",\"classification\":\"Capacity\",\"date\":\"2018-06-26\",\"count\":18},\n",
    "{\"resource\":\"avmsbusqlvm\",\"classification\":\"Generic\",\"date\":\"2018-06-26\",\"count\":7},\n",
    "{\"resource\":\"10.236.220.117\",\"classification\":\"Availability\",\"date\":\"2018-06-26\",\"count\":6},\n",
    "{\"resource\":\"avmsbusqlvm\",\"classification\":\"Capacity\",\"date\":\"2018-06-26\",\"count\":15},\n",
    "{\"resource\":\"10.236.220.18\",\"classification\":\"Performance\",\"date\":\"2018-06-26\",\"count\":8},\n",
    "{\"resource\":\"10.57.110.87\",\"classification\":\"Performance\",\"date\":\"2018-06-26\",\"count\":15},\n",
    "{\"resource\":\"10.236.220.117\",\"classification\":\"Performance\",\"date\":\"2018-06-26\",\"count\":8},\n",
    "{\"resource\":\"10.236.220.18\",\"classification\":\"Availability\",\"date\":\"2018-06-26\",\"count\":4},\n",
    "{\"resource\":\"10.57.110.87\",\"classification\":\"Availability\",\"date\":\"2018-06-26\",\"count\":9},\n",
    "{\"resource\":\"avmsbusqlvm\",\"classification\":\"Performance\",\"date\":\"2018-06-26\",\"count\":15},\n",
    "{\"resource\":\"10.236.220.18\",\"classification\":\"Generic\",\"date\":\"2018-06-26\",\"count\":7},\n",
    "{\"resource\":\"10.236.220.18\",\"classification\":\"Capacity\",\"date\":\"2018-06-26\",\"count\":15},\n",
    "{\"resource\":\"avmsbusqlvm\",\"classification\":\"Availability\",\"date\":\"2018-06-25\",\"count\":6},\n",
    "{\"resource\":\"10.236.220.117\",\"classification\":\"Generic\",\"date\":\"2018-06-25\",\"count\":8},\n",
    "{\"resource\":\"10.236.220.117\",\"classification\":\"Capacity\",\"date\":\"2018-06-25\",\"count\":14},\n",
    "{\"resource\":\"avmsbusqlvm\",\"classification\":\"Generic\",\"date\":\"2018-06-25\",\"count\":9},\n",
    "{\"resource\":\"10.236.220.117\",\"classification\":\"Availability\",\"date\":\"2018-06-25\",\"count\":10},\n",
    "{\"resource\":\"avmsbusqlvm\",\"classification\":\"Capacity\",\"date\":\"2018-06-25\",\"count\":14},\n",
    "{\"resource\":\"10.236.220.18\",\"classification\":\"Performance\",\"date\":\"2018-06-25\",\"count\":8},\n",
    "{\"resource\":\"10.57.110.87\",\"classification\":\"Performance\",\"date\":\"2018-06-25\",\"count\":8},\n",
    "{\"resource\":\"10.236.220.117\",\"classification\":\"Performance\",\"date\":\"2018-06-25\",\"count\":7},\n",
    "{\"resource\":\"10.236.220.18\",\"classification\":\"Availability\",\"date\":\"2018-06-25\",\"count\":4},\n",
    "{\"resource\":\"10.57.110.87\",\"classification\":\"Availability\",\"date\":\"2018-06-25\",\"count\":12},\n",
    "{\"resource\":\"avmsbusqlvm\",\"classification\":\"Performance\",\"date\":\"2018-06-25\",\"count\":8},\n",
    "{\"resource\":\"10.236.220.18\",\"classification\":\"Generic\",\"date\":\"2018-06-25\",\"count\":13},\n",
    "{\"resource\":\"10.236.220.18\",\"classification\":\"Capacity\",\"date\":\"2018-06-25\",\"count\":15},\n",
    "{\"resource\":\"avmsbusqlvm\",\"classification\":\"Availability\",\"date\":\"2018-06-20\",\"count\":17},\n",
    "{\"resource\":\"10.236.220.117\",\"classification\":\"Generic\",\"date\":\"2018-06-20\",\"count\":9},\n",
    "{\"resource\":\"10.236.220.117\",\"classification\":\"Capacity\",\"date\":\"2018-06-20\",\"count\":7},\n",
    "{\"resource\":\"avmsbusqlvm\",\"classification\":\"Generic\",\"date\":\"2018-06-20\",\"count\":12},\n",
    "{\"resource\":\"10.236.220.117\",\"classification\":\"Availability\",\"date\":\"2018-06-20\",\"count\":17},\n",
    "{\"resource\":\"avmsbusqlvm\",\"classification\":\"Capacity\",\"date\":\"2018-06-20\",\"count\":8},\n",
    "{\"resource\":\"10.236.220.18\",\"classification\":\"Performance\",\"date\":\"2018-06-20\",\"count\":8},\n",
    "{\"resource\":\"10.57.110.87\",\"classification\":\"Performance\",\"date\":\"2018-06-20\",\"count\":12},\n",
    "{\"resource\":\"10.236.220.117\",\"classification\":\"Performance\",\"date\":\"2018-06-20\",\"count\":14},\n",
    "{\"resource\":\"10.236.220.18\",\"classification\":\"Availability\",\"date\":\"2018-06-20\",\"count\":12},\n",
    "{\"resource\":\"10.57.110.87\",\"classification\":\"Availability\",\"date\":\"2018-06-20\",\"count\":13},\n",
    "{\"resource\":\"avmsbusqlvm\",\"classification\":\"Performance\",\"date\":\"2018-06-20\",\"count\":17},\n",
    "{\"resource\":\"10.236.220.18\",\"classification\":\"Generic\",\"date\":\"2018-06-20\",\"count\":15},\n",
    "{\"resource\":\"10.236.220.18\",\"classification\":\"Capacity\",\"date\":\"2018-06-20\",\"count\":9},\n",
    "{\"resource\":\"avmsbusqlvm\",\"classification\":\"Availability\",\"date\":\"2018-06-21\",\"count\":10},\n",
    "{\"resource\":\"10.236.220.117\",\"classification\":\"Generic\",\"date\":\"2018-06-21\",\"count\":12},\n",
    "{\"resource\":\"10.236.220.117\",\"classification\":\"Capacity\",\"date\":\"2018-06-21\",\"count\":9},\n",
    "{\"resource\":\"avmsbusqlvm\",\"classification\":\"Generic\",\"date\":\"2018-06-21\",\"count\":11},\n",
    "{\"resource\":\"10.236.220.117\",\"classification\":\"Availability\",\"date\":\"2018-06-21\",\"count\":8},\n",
    "{\"resource\":\"avmsbusqlvm\",\"classification\":\"Capacity\",\"date\":\"2018-06-21\",\"count\":11},\n",
    "{\"resource\":\"10.236.220.18\",\"classification\":\"Performance\",\"date\":\"2018-06-21\",\"count\":19},\n",
    "{\"resource\":\"10.57.110.87\",\"classification\":\"Performance\",\"date\":\"2018-06-21\",\"count\":15},\n",
    "{\"resource\":\"10.236.220.117\",\"classification\":\"Performance\",\"date\":\"2018-06-21\",\"count\":8},\n",
    "{\"resource\":\"10.236.220.18\",\"classification\":\"Availability\",\"date\":\"2018-06-21\",\"count\":9},\n",
    "{\"resource\":\"10.57.110.87\",\"classification\":\"Availability\",\"date\":\"2018-06-21\",\"count\":16},\n",
    "{\"resource\":\"avmsbusqlvm\",\"classification\":\"Performance\",\"date\":\"2018-06-21\",\"count\":8},\n",
    "{\"resource\":\"10.236.220.18\",\"classification\":\"Generic\",\"date\":\"2018-06-21\",\"count\":13},\n",
    "{\"resource\":\"10.236.220.18\",\"classification\":\"Capacity\",\"date\":\"2018-06-21\",\"count\":12},\n",
    "{\"resource\":\"avmsbusqlvm\",\"classification\":\"Availability\",\"date\":\"2018-06-22\",\"count\":9},\n",
    "{\"resource\":\"10.236.220.117\",\"classification\":\"Generic\",\"date\":\"2018-06-22\",\"count\":8},\n",
    "{\"resource\":\"10.236.220.117\",\"classification\":\"Capacity\",\"date\":\"2018-06-22\",\"count\":7},\n",
    "{\"resource\":\"avmsbusqlvm\",\"classification\":\"Generic\",\"date\":\"2018-06-22\",\"count\":9},\n",
    "{\"resource\":\"10.236.220.117\",\"classification\":\"Availability\",\"date\":\"2018-06-22\",\"count\":8},\n",
    "{\"resource\":\"avmsbusqlvm\",\"classification\":\"Capacity\",\"date\":\"2018-06-22\",\"count\":9},\n",
    "{\"resource\":\"10.236.220.18\",\"classification\":\"Performance\",\"date\":\"2018-06-22\",\"count\":11},\n",
    "{\"resource\":\"10.57.110.87\",\"classification\":\"Performance\",\"date\":\"2018-06-22\",\"count\":11},\n",
    "{\"resource\":\"10.236.220.117\",\"classification\":\"Performance\",\"date\":\"2018-06-22\",\"count\":9},\n",
    "{\"resource\":\"10.236.220.18\",\"classification\":\"Availability\",\"date\":\"2018-06-22\",\"count\":14},\n",
    "{\"resource\":\"10.57.110.87\",\"classification\":\"Availability\",\"date\":\"2018-06-22\",\"count\":9},\n",
    "{\"resource\":\"avmsbusqlvm\",\"classification\":\"Performance\",\"date\":\"2018-06-22\",\"count\":11},\n",
    "{\"resource\":\"10.236.220.18\",\"classification\":\"Generic\",\"date\":\"2018-06-22\",\"count\":12},\n",
    "{\"resource\":\"10.236.220.18\",\"classification\":\"Capacity\",\"date\":\"2018-06-22\",\"count\":8},\n",
    "{\"resource\":\"avmsbusqlvm\",\"classification\":\"Availability\",\"date\":\"2018-06-23\",\"count\":8},\n",
    "{\"resource\":\"10.236.220.117\",\"classification\":\"Generic\",\"date\":\"2018-06-23\",\"count\":9},\n",
    "{\"resource\":\"10.236.220.117\",\"classification\":\"Capacity\",\"date\":\"2018-06-23\",\"count\":8},\n",
    "{\"resource\":\"avmsbusqlvm\",\"classification\":\"Generic\",\"date\":\"2018-06-23\",\"count\":12},\n",
    "{\"resource\":\"10.236.220.117\",\"classification\":\"Availability\",\"date\":\"2018-06-23\",\"count\":10},\n",
    "{\"resource\":\"avmsbusqlvm\",\"classification\":\"Capacity\",\"date\":\"2018-06-23\",\"count\":5},\n",
    "{\"resource\":\"10.236.220.18\",\"classification\":\"Performance\",\"date\":\"2018-06-23\",\"count\":6},\n",
    "{\"resource\":\"10.57.110.87\",\"classification\":\"Performance\",\"date\":\"2018-06-23\",\"count\":5},\n",
    "{\"resource\":\"10.236.220.117\",\"classification\":\"Performance\",\"date\":\"2018-06-23\",\"count\":7},\n",
    "{\"resource\":\"10.236.220.18\",\"classification\":\"Availability\",\"date\":\"2018-06-23\",\"count\":8},\n",
    "{\"resource\":\"10.57.110.87\",\"classification\":\"Availability\",\"date\":\"2018-06-23\",\"count\":9},\n",
    "{\"resource\":\"avmsbusqlvm\",\"classification\":\"Performance\",\"date\":\"2018-06-23\",\"count\":5},\n",
    "{\"resource\":\"10.236.220.18\",\"classification\":\"Generic\",\"date\":\"2018-06-23\",\"count\":7},\n",
    "{\"resource\":\"10.236.220.18\",\"classification\":\"Capacity\",\"date\":\"2018-06-23\",\"count\":5},\n",
    "{\"resource\":\"avmsbusqlvm\",\"classification\":\"Availability\",\"date\":\"2018-06-24\",\"count\":9},\n",
    "{\"resource\":\"10.236.220.117\",\"classification\":\"Generic\",\"date\":\"2018-06-24\",\"count\":9},\n",
    "{\"resource\":\"10.236.220.117\",\"classification\":\"Capacity\",\"date\":\"2018-06-24\",\"count\":9},\n",
    "{\"resource\":\"avmsbusqlvm\",\"classification\":\"Generic\",\"date\":\"2018-06-24\",\"count\":10},\n",
    "{\"resource\":\"10.236.220.117\",\"classification\":\"Availability\",\"date\":\"2018-06-24\",\"count\":11},\n",
    "{\"resource\":\"avmsbusqlvm\",\"classification\":\"Capacity\",\"date\":\"2018-06-24\",\"count\":8},\n",
    "{\"resource\":\"10.236.220.18\",\"classification\":\"Performance\",\"date\":\"2018-06-24\",\"count\":9},\n",
    "{\"resource\":\"10.57.110.87\",\"classification\":\"Performance\",\"date\":\"2018-06-24\",\"count\":7},\n",
    "{\"resource\":\"10.236.220.117\",\"classification\":\"Performance\",\"date\":\"2018-06-24\",\"count\":9},\n",
    "{\"resource\":\"10.236.220.18\",\"classification\":\"Availability\",\"date\":\"2018-06-24\",\"count\":6},\n",
    "{\"resource\":\"10.57.110.87\",\"classification\":\"Availability\",\"date\":\"2018-06-24\",\"count\":9},\n",
    "{\"resource\":\"avmsbusqlvm\",\"classification\":\"Performance\",\"date\":\"2018-06-24\",\"count\":6},\n",
    "{\"resource\":\"10.236.220.18\",\"classification\":\"Generic\",\"date\":\"2018-06-24\",\"count\":9},\n",
    "{\"resource\":\"10.236.220.18\",\"classification\":\"Capacity\",\"date\":\"2018-06-24\",\"count\":10},\n",
    "{\"resource\":\"avmsbusqlvm\",\"classification\":\"Availability\",\"date\":\"2018-06-16\",\"count\":7},\n",
    "{\"resource\":\"10.236.220.117\",\"classification\":\"Generic\",\"date\":\"2018-06-16\",\"count\":6},\n",
    "{\"resource\":\"10.236.220.117\",\"classification\":\"Capacity\",\"date\":\"2018-06-16\",\"count\":8},\n",
    "{\"resource\":\"avmsbusqlvm\",\"classification\":\"Generic\",\"date\":\"2018-06-16\",\"count\":9},\n",
    "{\"resource\":\"10.236.220.117\",\"classification\":\"Availability\",\"date\":\"2018-06-16\",\"count\":7},\n",
    "{\"resource\":\"avmsbusqlvm\",\"classification\":\"Capacity\",\"date\":\"2018-06-16\",\"count\":9},\n",
    "{\"resource\":\"10.236.220.18\",\"classification\":\"Performance\",\"date\":\"2018-06-16\",\"count\":9},\n",
    "{\"resource\":\"10.57.110.87\",\"classification\":\"Performance\",\"date\":\"2018-06-16\",\"count\":7},\n",
    "{\"resource\":\"10.236.220.117\",\"classification\":\"Performance\",\"date\":\"2018-06-16\",\"count\":9},\n",
    "{\"resource\":\"10.236.220.18\",\"classification\":\"Availability\",\"date\":\"2018-06-16\",\"count\":8},\n",
    "{\"resource\":\"10.57.110.87\",\"classification\":\"Availability\",\"date\":\"2018-06-16\",\"count\":9},\n",
    "{\"resource\":\"avmsbusqlvm\",\"classification\":\"Performance\",\"date\":\"2018-06-16\",\"count\":10},\n",
    "{\"resource\":\"10.236.220.18\",\"classification\":\"Generic\",\"date\":\"2018-06-16\",\"count\":11},\n",
    "{\"resource\":\"10.236.220.18\",\"classification\":\"Capacity\",\"date\":\"2018-06-16\",\"count\":8},\n",
    "{\"resource\":\"avmsbusqlvm\",\"classification\":\"Availability\",\"date\":\"2018-06-17\",\"count\":9},\n",
    "{\"resource\":\"10.236.220.117\",\"classification\":\"Generic\",\"date\":\"2018-06-17\",\"count\":11},\n",
    "{\"resource\":\"10.236.220.117\",\"classification\":\"Capacity\",\"date\":\"2018-06-17\",\"count\":10},\n",
    "{\"resource\":\"avmsbusqlvm\",\"classification\":\"Generic\",\"date\":\"2018-06-17\",\"count\":9},\n",
    "{\"resource\":\"10.236.220.117\",\"classification\":\"Availability\",\"date\":\"2018-06-17\",\"count\":7},\n",
    "{\"resource\":\"avmsbusqlvm\",\"classification\":\"Capacity\",\"date\":\"2018-06-17\",\"count\":12},\n",
    "{\"resource\":\"10.236.220.18\",\"classification\":\"Performance\",\"date\":\"2018-06-17\",\"count\":11},\n",
    "{\"resource\":\"10.57.110.87\",\"classification\":\"Performance\",\"date\":\"2018-06-17\",\"count\":12},\n",
    "{\"resource\":\"10.236.220.117\",\"classification\":\"Performance\",\"date\":\"2018-06-17\",\"count\":9},\n",
    "{\"resource\":\"10.236.220.18\",\"classification\":\"Availability\",\"date\":\"2018-06-17\",\"count\":8},\n",
    "{\"resource\":\"10.57.110.87\",\"classification\":\"Availability\",\"date\":\"2018-06-17\",\"count\":11},\n",
    "{\"resource\":\"avmsbusqlvm\",\"classification\":\"Performance\",\"date\":\"2018-06-17\",\"count\":9},\n",
    "{\"resource\":\"10.236.220.18\",\"classification\":\"Generic\",\"date\":\"2018-06-17\",\"count\":14},\n",
    "{\"resource\":\"10.236.220.18\",\"classification\":\"Capacity\",\"date\":\"2018-06-17\",\"count\":11},\n",
    "{\"resource\":\"avmsbusqlvm\",\"classification\":\"Availability\",\"date\":\"2018-06-18\",\"count\":8},\n",
    "{\"resource\":\"10.236.220.117\",\"classification\":\"Generic\",\"date\":\"2018-06-18\",\"count\":9},\n",
    "{\"resource\":\"10.236.220.117\",\"classification\":\"Capacity\",\"date\":\"2018-06-18\",\"count\":12},\n",
    "{\"resource\":\"avmsbusqlvm\",\"classification\":\"Generic\",\"date\":\"2018-06-18\",\"count\":12},\n",
    "{\"resource\":\"10.236.220.117\",\"classification\":\"Availability\",\"date\":\"2018-06-18\",\"count\":9},\n",
    "{\"resource\":\"avmsbusqlvm\",\"classification\":\"Capacity\",\"date\":\"2018-06-18\",\"count\":10},\n",
    "{\"resource\":\"10.236.220.18\",\"classification\":\"Performance\",\"date\":\"2018-06-18\",\"count\":9},\n",
    "{\"resource\":\"10.57.110.87\",\"classification\":\"Performance\",\"date\":\"2018-06-18\",\"count\":9},\n",
    "{\"resource\":\"10.236.220.117\",\"classification\":\"Performance\",\"date\":\"2018-06-18\",\"count\":7},\n",
    "{\"resource\":\"10.236.220.18\",\"classification\":\"Availability\",\"date\":\"2018-06-18\",\"count\":8},\n",
    "{\"resource\":\"10.57.110.87\",\"classification\":\"Availability\",\"date\":\"2018-06-18\",\"count\":6},\n",
    "{\"resource\":\"avmsbusqlvm\",\"classification\":\"Performance\",\"date\":\"2018-06-18\",\"count\":9},\n",
    "{\"resource\":\"10.236.220.18\",\"classification\":\"Generic\",\"date\":\"2018-06-18\",\"count\":8},\n",
    "{\"resource\":\"10.236.220.18\",\"classification\":\"Capacity\",\"date\":\"2018-06-18\",\"count\":9},\n",
    "{\"resource\":\"avmsbusqlvm\",\"classification\":\"Availability\",\"date\":\"2018-06-19\",\"count\":10},\n",
    "{\"resource\":\"10.236.220.117\",\"classification\":\"Generic\",\"date\":\"2018-06-19\",\"count\":7},\n",
    "{\"resource\":\"10.236.220.117\",\"classification\":\"Capacity\",\"date\":\"2018-06-19\",\"count\":9},\n",
    "{\"resource\":\"avmsbusqlvm\",\"classification\":\"Generic\",\"date\":\"2018-06-19\",\"count\":10},\n",
    "{\"resource\":\"10.236.220.117\",\"classification\":\"Availability\",\"date\":\"2018-06-19\",\"count\":6},\n",
    "{\"resource\":\"avmsbusqlvm\",\"classification\":\"Capacity\",\"date\":\"2018-06-19\",\"count\":8},\n",
    "{\"resource\":\"10.236.220.18\",\"classification\":\"Performance\",\"date\":\"2018-06-19\",\"count\":9},\n",
    "{\"resource\":\"10.57.110.87\",\"classification\":\"Performance\",\"date\":\"2018-06-19\",\"count\":10},\n",
    "{\"resource\":\"10.236.220.117\",\"classification\":\"Performance\",\"date\":\"2018-06-19\",\"count\":8},\n",
    "{\"resource\":\"10.236.220.18\",\"classification\":\"Availability\",\"date\":\"2018-06-19\",\"count\":9},\n",
    "{\"resource\":\"10.57.110.87\",\"classification\":\"Availability\",\"date\":\"2018-06-19\",\"count\":8},\n",
    "{\"resource\":\"avmsbusqlvm\",\"classification\":\"Performance\",\"date\":\"2018-06-19\",\"count\":9},\n",
    "{\"resource\":\"10.236.220.18\",\"classification\":\"Generic\",\"date\":\"2018-06-19\",\"count\":6},\n",
    "{\"resource\":\"10.236.220.18\",\"classification\":\"Capacity\",\"date\":\"2018-06-19\",\"count\":10}]"
   ]
  },
  {
   "cell_type": "code",
   "execution_count": 67,
   "metadata": {},
   "outputs": [
    {
     "name": "stdout",
     "output_type": "stream",
     "text": [
      "   count  date_2018-06-16  date_2018-06-17  date_2018-06-18  date_2018-06-19  \\\n",
      "0      7                0                0                0                0   \n",
      "1     12                0                0                0                0   \n",
      "2     11                0                0                0                0   \n",
      "3      7                0                0                0                0   \n",
      "4      7                0                0                0                0   \n",
      "\n",
      "   date_2018-06-20  date_2018-06-21  date_2018-06-22  date_2018-06-23  \\\n",
      "0                0                0                0                0   \n",
      "1                0                0                0                0   \n",
      "2                0                0                0                0   \n",
      "3                0                0                0                0   \n",
      "4                0                0                0                0   \n",
      "\n",
      "   date_2018-06-24                ...                 \\\n",
      "0                0                ...                  \n",
      "1                0                ...                  \n",
      "2                0                ...                  \n",
      "3                0                ...                  \n",
      "4                0                ...                  \n",
      "\n",
      "   entity_10.236.220.18:-:Availability  entity_10.236.220.18:-:Capacity  \\\n",
      "0                                    0                                0   \n",
      "1                                    0                                0   \n",
      "2                                    0                                0   \n",
      "3                                    0                                0   \n",
      "4                                    0                                0   \n",
      "\n",
      "   entity_10.236.220.18:-:Generic  entity_10.236.220.18:-:Performance  \\\n",
      "0                               0                                   0   \n",
      "1                               0                                   0   \n",
      "2                               0                                   0   \n",
      "3                               0                                   0   \n",
      "4                               0                                   0   \n",
      "\n",
      "   entity_10.57.110.87:-:Availability  entity_10.57.110.87:-:Performance  \\\n",
      "0                                   0                                  0   \n",
      "1                                   0                                  0   \n",
      "2                                   0                                  0   \n",
      "3                                   0                                  0   \n",
      "4                                   0                                  0   \n",
      "\n",
      "   entity_avmsbusqlvm:-:Availability  entity_avmsbusqlvm:-:Capacity  \\\n",
      "0                                  1                              0   \n",
      "1                                  0                              0   \n",
      "2                                  0                              0   \n",
      "3                                  0                              0   \n",
      "4                                  0                              0   \n",
      "\n",
      "   entity_avmsbusqlvm:-:Generic  entity_avmsbusqlvm:-:Performance  \n",
      "0                             0                                 0  \n",
      "1                             0                                 0  \n",
      "2                             0                                 0  \n",
      "3                             1                                 0  \n",
      "4                             0                                 0  \n",
      "\n",
      "[5 rows x 29 columns]\n"
     ]
    }
   ],
   "source": [
    "#convert dict to dataframe\n",
    "dt=pd.DataFrame(dt)\n",
    "#print(dt.describe)\n",
    "# combining classification and resource together in a single column\n",
    "dt['entity']=dt['resource']+\":-:\"+dt['classification']\n",
    "dt=dt.drop(['resource','classification'], axis=1)\n",
    "# One-hot encode the data using pandas get_dummies\n",
    "dt = pd.get_dummies(dt)\n",
    "print(dt.head())"
   ]
  },
  {
   "cell_type": "code",
   "execution_count": 76,
   "metadata": {},
   "outputs": [
    {
     "name": "stdout",
     "output_type": "stream",
     "text": [
      "[0 0 0 0 0 0 0 0 0 0 0 0 0 1 0 0 0 0 0 0 0 0 0 0 1 0 0 0]\n",
      "[ 7 12 11  7  7 18 10  2  4 10  3  7  5 12 11 10  8 12  9 10 18  5  9 14\n",
      "  6 10  9 10 13 12 10 15 18 12 10 15 19  4 16 13  6  9 18 19 18  7  6 15\n",
      "  8 15  8  4  9 15  7 15  6  8 14  9 10 14  8  8  7  4 12  8 13 15 17  9\n",
      "  7 12 17  8  8 12 14 12 13 17 15  9 10 12  9 11  8 11 19 15  8  9 16  8\n",
      " 13 12  9  8  7  9  8  9 11 11  9 14  9 11 12  8  8  9  8 12 10  5  6  5\n",
      "  7  8  9  5  7  5  9  9  9 10 11  8  9  7  9  6  9  6  9 10  7  6  8  9\n",
      "  7  9  9  7  9  8  9 10 11  8  9 11 10  9  7 12 11 12  9  8 11  9 14 11\n",
      "  8  9 12 12  9 10  9  9  7  8  6  9  8  9 10  7  9 10  6  8  9 10  8  9\n",
      "  8  9  6 10]\n"
     ]
    }
   ],
   "source": [
    "# Use numpy to convert to arrays\n",
    "import numpy as np\n",
    "# Labels are the values we want to predict\n",
    "labels = np.array(dt['count'])\n",
    "# Remove the labels from the features\n",
    "# axis 1 refers to the columns\n",
    "features= dt.drop(['count'], axis = 1)\n",
    "# Saving feature names for later use\n",
    "feature_list = list(dt.columns)\n",
    "# Convert to numpy array\n",
    "features = np.array(features)\n",
    "print(features[0])\n",
    "print(labels)"
   ]
  },
  {
   "cell_type": "code",
   "execution_count": 69,
   "metadata": {},
   "outputs": [],
   "source": [
    "# Using Skicit-learn to split data into training and testing sets\n",
    "from sklearn.cross_validation import train_test_split\n",
    "# Split the data into training and testing sets\n",
    "train_features, test_features, train_labels, test_labels = train_test_split(features, labels, test_size = 0.25, random_state = 42)"
   ]
  },
  {
   "cell_type": "code",
   "execution_count": 70,
   "metadata": {},
   "outputs": [
    {
     "name": "stdout",
     "output_type": "stream",
     "text": [
      "Training Features Shape: (147, 28)\n",
      "Training Labels Shape: (147,)\n",
      "Testing Features Shape: (49, 28)\n",
      "Testing Labels Shape: (49,)\n"
     ]
    }
   ],
   "source": [
    "print('Training Features Shape:', train_features.shape)\n",
    "print('Training Labels Shape:', train_labels.shape)\n",
    "print('Testing Features Shape:', test_features.shape)\n",
    "print('Testing Labels Shape:', test_labels.shape)"
   ]
  },
  {
   "cell_type": "code",
   "execution_count": 71,
   "metadata": {},
   "outputs": [
    {
     "data": {
      "text/plain": [
       "RandomForestRegressor(bootstrap=True, criterion='mse', max_depth=None,\n",
       "           max_features='auto', max_leaf_nodes=None,\n",
       "           min_impurity_decrease=0.0, min_impurity_split=None,\n",
       "           min_samples_leaf=1, min_samples_split=2,\n",
       "           min_weight_fraction_leaf=0.0, n_estimators=1000, n_jobs=1,\n",
       "           oob_score=False, random_state=42, verbose=0, warm_start=False)"
      ]
     },
     "execution_count": 71,
     "metadata": {},
     "output_type": "execute_result"
    }
   ],
   "source": [
    "# Instantiate model with 1000 decision trees\n",
    "rf = RandomForestRegressor(n_estimators = 1000, random_state = 42)\n",
    "# Train the model on training data\n",
    "rf.fit(train_features, train_labels)"
   ]
  },
  {
   "cell_type": "code",
   "execution_count": 72,
   "metadata": {},
   "outputs": [
    {
     "name": "stdout",
     "output_type": "stream",
     "text": [
      "Mean Absolute Error: 2.21 values.\n"
     ]
    }
   ],
   "source": [
    "# Use the forest's predict method on the test data\n",
    "predictions = rf.predict(test_features)\n",
    "# Calculate the absolute errors\n",
    "errors = abs(predictions - test_labels)\n",
    "# Print out the mean absolute error (mae)\n",
    "print('Mean Absolute Error:', round(np.mean(errors), 2), 'values.')"
   ]
  },
  {
   "cell_type": "code",
   "execution_count": 73,
   "metadata": {},
   "outputs": [
    {
     "name": "stdout",
     "output_type": "stream",
     "text": [
      "Accuracy: 73.83 %.\n"
     ]
    }
   ],
   "source": [
    "# Calculate mean absolute percentage error (MAPE)\n",
    "mape = 100 * (errors / test_labels)\n",
    "# Calculate and display accuracy\n",
    "accuracy = 100 - np.mean(mape)\n",
    "print('Accuracy:', round(accuracy, 2), '%.')"
   ]
  },
  {
   "cell_type": "code",
   "execution_count": 79,
   "metadata": {},
   "outputs": [
    {
     "name": "stdout",
     "output_type": "stream",
     "text": [
      "[7.527]\n"
     ]
    }
   ],
   "source": [
    "print(rf.predict([[0,0,0,0,0, 0, 0, 0, 0, 0, 0, 0, 0, 1, 0, 0, 0, 0, 0, 0, 0, 0, 0, 0, 1, 0, 0, 0]]))"
   ]
  },
  {
   "cell_type": "code",
   "execution_count": null,
   "metadata": {},
   "outputs": [],
   "source": []
  }
 ],
 "metadata": {
  "kernelspec": {
   "display_name": "Python 3",
   "language": "python",
   "name": "python3"
  },
  "language_info": {
   "codemirror_mode": {
    "name": "ipython",
    "version": 3
   },
   "file_extension": ".py",
   "mimetype": "text/x-python",
   "name": "python",
   "nbconvert_exporter": "python",
   "pygments_lexer": "ipython3",
   "version": "3.6.4"
  }
 },
 "nbformat": 4,
 "nbformat_minor": 2
}
