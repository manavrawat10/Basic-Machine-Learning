{
 "cells": [
  {
   "cell_type": "markdown",
   "metadata": {},
   "source": [
    "# Prediction Algorithm Linear Regression"
   ]
  },
  {
   "cell_type": "markdown",
   "metadata": {},
   "source": [
    "### Predict the count of activity for next day based on the count of activites for last 10 days and depending on the day of the week."
   ]
  },
  {
   "cell_type": "markdown",
   "metadata": {},
   "source": [
    "### Expects inputs in dataframe format."
   ]
  },
  {
   "cell_type": "code",
   "execution_count": 1,
   "metadata": {},
   "outputs": [],
   "source": [
    "from sklearn.linear_model import LinearRegression\n",
    "import pandas as pd\n",
    "import numpy as np"
   ]
  },
  {
   "cell_type": "code",
   "execution_count": 3,
   "metadata": {},
   "outputs": [
    {
     "name": "stdout",
     "output_type": "stream",
     "text": [
      "                                     id        resource   event  environment  \\\n",
      "0  044bd4f7-2548-42e2-b4e0-1bef394146fb     avmsbusqlvm  Zenoss  Development   \n",
      "1  45fe18b5-d544-4fd7-827e-bdb4018fe0a4    10.57.110.87  Zenoss  Development   \n",
      "2  36076770-32b3-4a40-b4b6-11a58e880833  10.236.220.117  Zenoss  Development   \n",
      "3  2df48389-f908-43ac-92d6-bcdf0e98af70    10.57.110.87  Zenoss  Development   \n",
      "4  fb9c92c0-a7d3-4271-810d-f7d55e9cedc0    10.57.110.87  Zenoss  Development   \n",
      "\n",
      "  severity classification            problem_type correlate status    service  \\\n",
      "0    error        Generic            LowDiskSpace        {}   open  {UnKnown}   \n",
      "1    error   Availability       serverUnavailable        {}   open  {UnKnown}   \n",
      "2    error        Generic            LowDiskSpace        {}   open  {UnKnown}   \n",
      "3    error    Performance  ApplicationPerformance        {}   open  {UnKnown}   \n",
      "4    error    Performance  ApplicationPerformance        {}   open  {UnKnown}   \n",
      "\n",
      "     ...                                               raw_data    customer  \\\n",
      "0    ...      {\"stateChange\": \"2017/10/28 00:46:04.000\", \"El...  customer 1   \n",
      "1    ...      {\"stateChange\": \"2017/10/28 00:46:04.000\", \"El...  customer 1   \n",
      "2    ...      {\"stateChange\": \"2017/10/28 00:46:04.000\", \"El...  customer 1   \n",
      "3    ...      {\"agent\": \"zenping\", \"ElementManagerUniqueCIID...  customer 1   \n",
      "4    ...      {\"stateChange\": \"2017/10/28 00:46:04.000\", \"El...  customer 1   \n",
      "\n",
      "  duplicate_count repeat previous_severity trend_indication  \\\n",
      "0               0  False     indeterminate       lessSevere   \n",
      "1               0  False     indeterminate       lessSevere   \n",
      "2               0  False     indeterminate       lessSevere   \n",
      "3               0  False     indeterminate       lessSevere   \n",
      "4               0  False     indeterminate       lessSevere   \n",
      "\n",
      "          receive_time                       last_receive_id  \\\n",
      "0  2018-06-29 10:49:12  044bd4f7-2548-42e2-b4e0-1bef394146fb   \n",
      "1  2018-06-29 10:55:24  45fe18b5-d544-4fd7-827e-bdb4018fe0a4   \n",
      "2  2018-06-29 10:49:18  36076770-32b3-4a40-b4b6-11a58e880833   \n",
      "3  2018-06-29 10:50:29  2df48389-f908-43ac-92d6-bcdf0e98af70   \n",
      "4  2018-06-29 10:54:09  fb9c92c0-a7d3-4271-810d-f7d55e9cedc0   \n",
      "\n",
      "     last_receive_time    history  \n",
      "0  2018-06-29 10:49:12  {history}  \n",
      "1  2018-06-29 10:55:24  {history}  \n",
      "2  2018-06-29 10:49:18  {history}  \n",
      "3  2018-06-29 10:50:29  {history}  \n",
      "4  2018-06-29 10:54:09  {history}  \n",
      "\n",
      "[5 rows x 29 columns]\n",
      "Index(['id', 'resource', 'event', 'environment', 'severity', 'classification',\n",
      "       'problem_type', 'correlate', 'status', 'service', 'group', 'value',\n",
      "       'text', 'tags', 'attributes', 'origin', 'type', 'create_time',\n",
      "       'timeout', 'raw_data', 'customer', 'duplicate_count', 'repeat',\n",
      "       'previous_severity', 'trend_indication', 'receive_time',\n",
      "       'last_receive_id', 'last_receive_time', 'history'],\n",
      "      dtype='object')\n"
     ]
    }
   ],
   "source": [
    "data=pd.read_csv(\"alerts_131.csv\")\n",
    "print(data.head())\n",
    "print(data.columns)"
   ]
  },
  {
   "cell_type": "markdown",
   "metadata": {},
   "source": [
    "### Removing unwanted columns from dataframes\n"
   ]
  },
  {
   "cell_type": "code",
   "execution_count": 10,
   "metadata": {},
   "outputs": [
    {
     "name": "stdout",
     "output_type": "stream",
     "text": [
      "<bound method NDFrame.head of            resource classification receive_time\n",
      "0       avmsbusqlvm        Generic             \n",
      "1      10.57.110.87   Availability             \n",
      "2    10.236.220.117        Generic             \n",
      "3      10.57.110.87    Performance             \n",
      "4      10.57.110.87    Performance             \n",
      "5      10.57.110.87   Availability             \n",
      "6      10.57.110.87   Availability             \n",
      "7     10.236.220.18   Availability             \n",
      "8       avmsbusqlvm       Capacity             \n",
      "9    10.236.220.117       Capacity             \n",
      "10     10.57.110.87            NaN             \n",
      "11      avmsbusqlvm    Performance             \n",
      "12   10.236.220.117       Capacity             \n",
      "13   10.236.220.117        Generic             \n",
      "14    10.236.220.18    Performance             \n",
      "15      avmsbusqlvm   Availability             \n",
      "16    10.236.220.18   Availability             \n",
      "17    10.236.220.18   Availability             \n",
      "18      avmsbusqlvm       Capacity             \n",
      "19    10.236.220.18       Capacity             \n",
      "20     10.57.110.87            NaN             \n",
      "21      avmsbusqlvm            NaN             \n",
      "22   10.236.220.117    Performance             \n",
      "23   10.236.220.117            NaN             \n",
      "24      avmsbusqlvm       Capacity             \n",
      "25    10.236.220.18   Availability             \n",
      "26    10.236.220.18            NaN             \n",
      "27      avmsbusqlvm    Performance             \n",
      "28    10.236.220.18    Performance             \n",
      "29    10.236.220.18            NaN             \n",
      "..              ...            ...          ...\n",
      "121     avmsbusqlvm       Capacity             \n",
      "122     avmsbusqlvm    Performance             \n",
      "123  10.236.220.117   Availability             \n",
      "124  10.236.220.117    Performance             \n",
      "125     avmsbusqlvm        Generic             \n",
      "126     avmsbusqlvm   Availability             \n",
      "127  10.236.220.117        Generic             \n",
      "128     avmsbusqlvm    Performance             \n",
      "129   10.236.220.18   Availability             \n",
      "130   10.236.220.18       Capacity             \n",
      "131     avmsbusqlvm        Generic             \n",
      "132  10.236.220.117        Generic             \n",
      "133   10.236.220.18       Capacity             \n",
      "134   10.236.220.18       Capacity             \n",
      "135     avmsbusqlvm        Generic             \n",
      "136  10.236.220.117   Availability             \n",
      "137   10.236.220.18       Capacity             \n",
      "138  10.236.220.117   Availability             \n",
      "139  10.236.220.117   Availability             \n",
      "140  10.236.220.117        Generic             \n",
      "141  10.236.220.117   Availability             \n",
      "142   10.236.220.18       Capacity             \n",
      "143     avmsbusqlvm   Availability             \n",
      "144   10.236.220.18        Generic             \n",
      "145     avmsbusqlvm       Capacity             \n",
      "146     avmsbusqlvm       Capacity             \n",
      "147  10.236.220.117       Capacity             \n",
      "148     avmsbusqlvm        Generic             \n",
      "149  10.236.220.117    Performance             \n",
      "150   10.236.220.18       Capacity             \n",
      "\n",
      "[151 rows x 3 columns]>\n"
     ]
    }
   ],
   "source": [
    "data=data[[\"resource\", \"classification\", \"\"]\n",
    "data[\"receive_time\"]=str(data[\"receive_time\"]).split(\" \")[1]\n",
    "print(data.head)\n"
   ]
  },
  {
   "cell_type": "markdown",
   "metadata": {},
   "source": [
    "#### working on cooked up data"
   ]
  },
  {
   "cell_type": "code",
   "execution_count": 107,
   "metadata": {},
   "outputs": [
    {
     "name": "stdout",
     "output_type": "stream",
     "text": [
      "[{'resource': 'avmsbusqlvm', 'classification': 'Availability', 'date': '2018-06-29', 'count': 7}, {'resource': '10.236.220.117', 'classification': 'Generic', 'date': '2018-06-29', 'count': 12}, {'resource': '10.236.220.117', 'classification': 'Capacity', 'date': '2018-06-29', 'count': 11}, {'resource': 'avmsbusqlvm', 'classification': 'Generic', 'date': '2018-06-29', 'count': 7}, {'resource': '10.236.220.117', 'classification': 'Availability', 'date': '2018-06-29', 'count': 7}, {'resource': 'avmsbusqlvm', 'classification': 'Capacity', 'date': '2018-06-29', 'count': 18}, {'resource': '10.236.220.18', 'classification': 'Performance', 'date': '2018-06-29', 'count': 10}, {'resource': '10.57.110.87', 'classification': 'Performance', 'date': '2018-06-29', 'count': 2}, {'resource': '10.236.220.117', 'classification': 'Performance', 'date': '2018-06-29', 'count': 4}, {'resource': '10.236.220.18', 'classification': 'Availability', 'date': '2018-06-29', 'count': 10}, {'resource': '10.57.110.87', 'classification': 'Availability', 'date': '2018-06-29', 'count': 3}, {'resource': 'avmsbusqlvm', 'classification': 'Performance', 'date': '2018-06-29', 'count': 7}, {'resource': '10.236.220.18', 'classification': 'Generic', 'date': '2018-06-29', 'count': 5}, {'resource': '10.236.220.18', 'classification': 'Capacity', 'date': '2018-06-29', 'count': 12}, {'resource': 'avmsbusqlvm', 'classification': 'Availability', 'date': '2018-06-28', 'count': 11}, {'resource': '10.236.220.117', 'classification': 'Generic', 'date': '2018-06-28', 'count': 10}, {'resource': '10.236.220.117', 'classification': 'Capacity', 'date': '2018-06-28', 'count': 8}, {'resource': 'avmsbusqlvm', 'classification': 'Generic', 'date': '2018-06-28', 'count': 12}, {'resource': '10.236.220.117', 'classification': 'Availability', 'date': '2018-06-28', 'count': 9}, {'resource': 'avmsbusqlvm', 'classification': 'Capacity', 'date': '2018-06-28', 'count': 10}, {'resource': '10.236.220.18', 'classification': 'Performance', 'date': '2018-06-28', 'count': 18}, {'resource': '10.57.110.87', 'classification': 'Performance', 'date': '2018-06-28', 'count': 5}, {'resource': '10.236.220.117', 'classification': 'Performance', 'date': '2018-06-28', 'count': 9}, {'resource': '10.236.220.18', 'classification': 'Availability', 'date': '2018-06-28', 'count': 14}, {'resource': '10.57.110.87', 'classification': 'Availability', 'date': '2018-06-28', 'count': 6}, {'resource': 'avmsbusqlvm', 'classification': 'Performance', 'date': '2018-06-28', 'count': 10}, {'resource': '10.236.220.18', 'classification': 'Generic', 'date': '2018-06-28', 'count': 9}, {'resource': '10.236.220.18', 'classification': 'Capacity', 'date': '2018-06-28', 'count': 10}, {'resource': 'avmsbusqlvm', 'classification': 'Availability', 'date': '2018-06-27', 'count': 13}, {'resource': '10.236.220.117', 'classification': 'Generic', 'date': '2018-06-27', 'count': 12}, {'resource': '10.236.220.117', 'classification': 'Capacity', 'date': '2018-06-27', 'count': 10}, {'resource': 'avmsbusqlvm', 'classification': 'Generic', 'date': '2018-06-27', 'count': 15}, {'resource': '10.236.220.117', 'classification': 'Availability', 'date': '2018-06-27', 'count': 18}, {'resource': 'avmsbusqlvm', 'classification': 'Capacity', 'date': '2018-06-27', 'count': 12}, {'resource': '10.236.220.18', 'classification': 'Performance', 'date': '2018-06-27', 'count': 10}, {'resource': '10.57.110.87', 'classification': 'Performance', 'date': '2018-06-27', 'count': 15}, {'resource': '10.236.220.117', 'classification': 'Performance', 'date': '2018-06-27', 'count': 19}, {'resource': '10.236.220.18', 'classification': 'Availability', 'date': '2018-06-27', 'count': 4}, {'resource': '10.57.110.87', 'classification': 'Availability', 'date': '2018-06-27', 'count': 16}, {'resource': 'avmsbusqlvm', 'classification': 'Performance', 'date': '2018-06-27', 'count': 13}, {'resource': '10.236.220.18', 'classification': 'Generic', 'date': '2018-06-27', 'count': 6}, {'resource': '10.236.220.18', 'classification': 'Capacity', 'date': '2018-06-27', 'count': 9}, {'resource': 'avmsbusqlvm', 'classification': 'Availability', 'date': '2018-06-26', 'count': 18}, {'resource': '10.236.220.117', 'classification': 'Generic', 'date': '2018-06-26', 'count': 19}, {'resource': '10.236.220.117', 'classification': 'Capacity', 'date': '2018-06-26', 'count': 18}, {'resource': 'avmsbusqlvm', 'classification': 'Generic', 'date': '2018-06-26', 'count': 7}, {'resource': '10.236.220.117', 'classification': 'Availability', 'date': '2018-06-26', 'count': 6}, {'resource': 'avmsbusqlvm', 'classification': 'Capacity', 'date': '2018-06-26', 'count': 15}, {'resource': '10.236.220.18', 'classification': 'Performance', 'date': '2018-06-26', 'count': 8}, {'resource': '10.57.110.87', 'classification': 'Performance', 'date': '2018-06-26', 'count': 15}, {'resource': '10.236.220.117', 'classification': 'Performance', 'date': '2018-06-26', 'count': 8}, {'resource': '10.236.220.18', 'classification': 'Availability', 'date': '2018-06-26', 'count': 4}, {'resource': '10.57.110.87', 'classification': 'Availability', 'date': '2018-06-26', 'count': 9}, {'resource': 'avmsbusqlvm', 'classification': 'Performance', 'date': '2018-06-26', 'count': 15}, {'resource': '10.236.220.18', 'classification': 'Generic', 'date': '2018-06-26', 'count': 7}, {'resource': '10.236.220.18', 'classification': 'Capacity', 'date': '2018-06-26', 'count': 15}, {'resource': 'avmsbusqlvm', 'classification': 'Availability', 'date': '2018-06-25', 'count': 6}, {'resource': '10.236.220.117', 'classification': 'Generic', 'date': '2018-06-25', 'count': 8}, {'resource': '10.236.220.117', 'classification': 'Capacity', 'date': '2018-06-25', 'count': 14}, {'resource': 'avmsbusqlvm', 'classification': 'Generic', 'date': '2018-06-25', 'count': 9}, {'resource': '10.236.220.117', 'classification': 'Availability', 'date': '2018-06-25', 'count': 10}, {'resource': 'avmsbusqlvm', 'classification': 'Capacity', 'date': '2018-06-25', 'count': 14}, {'resource': '10.236.220.18', 'classification': 'Performance', 'date': '2018-06-25', 'count': 8}, {'resource': '10.57.110.87', 'classification': 'Performance', 'date': '2018-06-25', 'count': 8}, {'resource': '10.236.220.117', 'classification': 'Performance', 'date': '2018-06-25', 'count': 7}, {'resource': '10.236.220.18', 'classification': 'Availability', 'date': '2018-06-25', 'count': 4}, {'resource': '10.57.110.87', 'classification': 'Availability', 'date': '2018-06-25', 'count': 12}, {'resource': 'avmsbusqlvm', 'classification': 'Performance', 'date': '2018-06-25', 'count': 8}, {'resource': '10.236.220.18', 'classification': 'Generic', 'date': '2018-06-25', 'count': 13}, {'resource': '10.236.220.18', 'classification': 'Capacity', 'date': '2018-06-25', 'count': 15}]\n"
     ]
    }
   ],
   "source": [
    "dt=[{\"resource\":\"avmsbusqlvm\",\"classification\":\"Availability\",\"date\":\"2018-06-29\",\"count\":7},\n",
    "{\"resource\":\"10.236.220.117\",\"classification\":\"Generic\",\"date\":\"2018-06-29\",\"count\":12},\n",
    "{\"resource\":\"10.236.220.117\",\"classification\":\"Capacity\",\"date\":\"2018-06-29\",\"count\":11},\n",
    "{\"resource\":\"avmsbusqlvm\",\"classification\":\"Generic\",\"date\":\"2018-06-29\",\"count\":7},\n",
    "{\"resource\":\"10.236.220.117\",\"classification\":\"Availability\",\"date\":\"2018-06-29\",\"count\":7},\n",
    "{\"resource\":\"avmsbusqlvm\",\"classification\":\"Capacity\",\"date\":\"2018-06-29\",\"count\":18},\n",
    "{\"resource\":\"10.236.220.18\",\"classification\":\"Performance\",\"date\":\"2018-06-29\",\"count\":10},\n",
    "{\"resource\":\"10.57.110.87\",\"classification\":\"Performance\",\"date\":\"2018-06-29\",\"count\":2},\n",
    "{\"resource\":\"10.236.220.117\",\"classification\":\"Performance\",\"date\":\"2018-06-29\",\"count\":4},\n",
    "{\"resource\":\"10.236.220.18\",\"classification\":\"Availability\",\"date\":\"2018-06-29\",\"count\":10},\n",
    "{\"resource\":\"10.57.110.87\",\"classification\":\"Availability\",\"date\":\"2018-06-29\",\"count\":3},\n",
    "{\"resource\":\"avmsbusqlvm\",\"classification\":\"Performance\",\"date\":\"2018-06-29\",\"count\":7},\n",
    "{\"resource\":\"10.236.220.18\",\"classification\":\"Generic\",\"date\":\"2018-06-29\",\"count\":5},\n",
    "{\"resource\":\"10.236.220.18\",\"classification\":\"Capacity\",\"date\":\"2018-06-29\",\"count\":12},\n",
    "{\"resource\":\"avmsbusqlvm\",\"classification\":\"Availability\",\"date\":\"2018-06-28\",\"count\":11},\n",
    "{\"resource\":\"10.236.220.117\",\"classification\":\"Generic\",\"date\":\"2018-06-28\",\"count\":10},\n",
    "{\"resource\":\"10.236.220.117\",\"classification\":\"Capacity\",\"date\":\"2018-06-28\",\"count\":8},\n",
    "{\"resource\":\"avmsbusqlvm\",\"classification\":\"Generic\",\"date\":\"2018-06-28\",\"count\":12},\n",
    "{\"resource\":\"10.236.220.117\",\"classification\":\"Availability\",\"date\":\"2018-06-28\",\"count\":9},\n",
    "{\"resource\":\"avmsbusqlvm\",\"classification\":\"Capacity\",\"date\":\"2018-06-28\",\"count\":10},\n",
    "{\"resource\":\"10.236.220.18\",\"classification\":\"Performance\",\"date\":\"2018-06-28\",\"count\":18},\n",
    "{\"resource\":\"10.57.110.87\",\"classification\":\"Performance\",\"date\":\"2018-06-28\",\"count\":5},\n",
    "{\"resource\":\"10.236.220.117\",\"classification\":\"Performance\",\"date\":\"2018-06-28\",\"count\":9},\n",
    "{\"resource\":\"10.236.220.18\",\"classification\":\"Availability\",\"date\":\"2018-06-28\",\"count\":14},\n",
    "{\"resource\":\"10.57.110.87\",\"classification\":\"Availability\",\"date\":\"2018-06-28\",\"count\":6},\n",
    "{\"resource\":\"avmsbusqlvm\",\"classification\":\"Performance\",\"date\":\"2018-06-28\",\"count\":10},\n",
    "{\"resource\":\"10.236.220.18\",\"classification\":\"Generic\",\"date\":\"2018-06-28\",\"count\":9},\n",
    "{\"resource\":\"10.236.220.18\",\"classification\":\"Capacity\",\"date\":\"2018-06-28\",\"count\":10},\n",
    "{\"resource\":\"avmsbusqlvm\",\"classification\":\"Availability\",\"date\":\"2018-06-27\",\"count\":13},\n",
    "{\"resource\":\"10.236.220.117\",\"classification\":\"Generic\",\"date\":\"2018-06-27\",\"count\":12},\n",
    "{\"resource\":\"10.236.220.117\",\"classification\":\"Capacity\",\"date\":\"2018-06-27\",\"count\":10},\n",
    "{\"resource\":\"avmsbusqlvm\",\"classification\":\"Generic\",\"date\":\"2018-06-27\",\"count\":15},\n",
    "{\"resource\":\"10.236.220.117\",\"classification\":\"Availability\",\"date\":\"2018-06-27\",\"count\":18},\n",
    "{\"resource\":\"avmsbusqlvm\",\"classification\":\"Capacity\",\"date\":\"2018-06-27\",\"count\":12},\n",
    "{\"resource\":\"10.236.220.18\",\"classification\":\"Performance\",\"date\":\"2018-06-27\",\"count\":10},\n",
    "{\"resource\":\"10.57.110.87\",\"classification\":\"Performance\",\"date\":\"2018-06-27\",\"count\":15},\n",
    "{\"resource\":\"10.236.220.117\",\"classification\":\"Performance\",\"date\":\"2018-06-27\",\"count\":19},\n",
    "{\"resource\":\"10.236.220.18\",\"classification\":\"Availability\",\"date\":\"2018-06-27\",\"count\":4},\n",
    "{\"resource\":\"10.57.110.87\",\"classification\":\"Availability\",\"date\":\"2018-06-27\",\"count\":16},\n",
    "{\"resource\":\"avmsbusqlvm\",\"classification\":\"Performance\",\"date\":\"2018-06-27\",\"count\":13},\n",
    "{\"resource\":\"10.236.220.18\",\"classification\":\"Generic\",\"date\":\"2018-06-27\",\"count\":6},\n",
    "{\"resource\":\"10.236.220.18\",\"classification\":\"Capacity\",\"date\":\"2018-06-27\",\"count\":9},\n",
    "{\"resource\":\"avmsbusqlvm\",\"classification\":\"Availability\",\"date\":\"2018-06-26\",\"count\":18},\n",
    "{\"resource\":\"10.236.220.117\",\"classification\":\"Generic\",\"date\":\"2018-06-26\",\"count\":19},\n",
    "{\"resource\":\"10.236.220.117\",\"classification\":\"Capacity\",\"date\":\"2018-06-26\",\"count\":18},\n",
    "{\"resource\":\"avmsbusqlvm\",\"classification\":\"Generic\",\"date\":\"2018-06-26\",\"count\":7},\n",
    "{\"resource\":\"10.236.220.117\",\"classification\":\"Availability\",\"date\":\"2018-06-26\",\"count\":6},\n",
    "{\"resource\":\"avmsbusqlvm\",\"classification\":\"Capacity\",\"date\":\"2018-06-26\",\"count\":15},\n",
    "{\"resource\":\"10.236.220.18\",\"classification\":\"Performance\",\"date\":\"2018-06-26\",\"count\":8},\n",
    "{\"resource\":\"10.57.110.87\",\"classification\":\"Performance\",\"date\":\"2018-06-26\",\"count\":15},\n",
    "{\"resource\":\"10.236.220.117\",\"classification\":\"Performance\",\"date\":\"2018-06-26\",\"count\":8},\n",
    "{\"resource\":\"10.236.220.18\",\"classification\":\"Availability\",\"date\":\"2018-06-26\",\"count\":4},\n",
    "{\"resource\":\"10.57.110.87\",\"classification\":\"Availability\",\"date\":\"2018-06-26\",\"count\":9},\n",
    "{\"resource\":\"avmsbusqlvm\",\"classification\":\"Performance\",\"date\":\"2018-06-26\",\"count\":15},\n",
    "{\"resource\":\"10.236.220.18\",\"classification\":\"Generic\",\"date\":\"2018-06-26\",\"count\":7},\n",
    "{\"resource\":\"10.236.220.18\",\"classification\":\"Capacity\",\"date\":\"2018-06-26\",\"count\":15},\n",
    "{\"resource\":\"avmsbusqlvm\",\"classification\":\"Availability\",\"date\":\"2018-06-25\",\"count\":6},\n",
    "{\"resource\":\"10.236.220.117\",\"classification\":\"Generic\",\"date\":\"2018-06-25\",\"count\":8},\n",
    "{\"resource\":\"10.236.220.117\",\"classification\":\"Capacity\",\"date\":\"2018-06-25\",\"count\":14},\n",
    "{\"resource\":\"avmsbusqlvm\",\"classification\":\"Generic\",\"date\":\"2018-06-25\",\"count\":9},\n",
    "{\"resource\":\"10.236.220.117\",\"classification\":\"Availability\",\"date\":\"2018-06-25\",\"count\":10},\n",
    "{\"resource\":\"avmsbusqlvm\",\"classification\":\"Capacity\",\"date\":\"2018-06-25\",\"count\":14},\n",
    "{\"resource\":\"10.236.220.18\",\"classification\":\"Performance\",\"date\":\"2018-06-25\",\"count\":8},\n",
    "{\"resource\":\"10.57.110.87\",\"classification\":\"Performance\",\"date\":\"2018-06-25\",\"count\":8},\n",
    "{\"resource\":\"10.236.220.117\",\"classification\":\"Performance\",\"date\":\"2018-06-25\",\"count\":7},\n",
    "{\"resource\":\"10.236.220.18\",\"classification\":\"Availability\",\"date\":\"2018-06-25\",\"count\":4},\n",
    "{\"resource\":\"10.57.110.87\",\"classification\":\"Availability\",\"date\":\"2018-06-25\",\"count\":12},\n",
    "{\"resource\":\"avmsbusqlvm\",\"classification\":\"Performance\",\"date\":\"2018-06-25\",\"count\":8},\n",
    "{\"resource\":\"10.236.220.18\",\"classification\":\"Generic\",\"date\":\"2018-06-25\",\"count\":13},\n",
    "{\"resource\":\"10.236.220.18\",\"classification\":\"Capacity\",\"date\":\"2018-06-25\",\"count\":15}]\n",
    "print(dt)"
   ]
  },
  {
   "cell_type": "code",
   "execution_count": 108,
   "metadata": {},
   "outputs": [
    {
     "name": "stdout",
     "output_type": "stream",
     "text": [
      "  classification  count        date        resource\n",
      "0   Availability      7  2018-06-29     avmsbusqlvm\n",
      "1        Generic     12  2018-06-29  10.236.220.117\n",
      "2       Capacity     11  2018-06-29  10.236.220.117\n",
      "3        Generic      7  2018-06-29     avmsbusqlvm\n",
      "4   Availability      7  2018-06-29  10.236.220.117\n",
      "(70, 4)\n"
     ]
    }
   ],
   "source": [
    "df=pd.DataFrame(dt)\n",
    "print(df.head())\n",
    "print(df.shape)\n",
    "#df['count'] = pd.to_numeric(df.count, errors='coerce')\n",
    "#print(type(df['count'][0]))"
   ]
  },
  {
   "cell_type": "markdown",
   "metadata": {},
   "source": [
    "### training model linear regression with multiple paramethers"
   ]
  },
  {
   "cell_type": "code",
   "execution_count": 109,
   "metadata": {},
   "outputs": [
    {
     "name": "stdout",
     "output_type": "stream",
     "text": [
      "   classification  count        date        resource  \\\n",
      "0    Availability      7  2018-06-29     avmsbusqlvm   \n",
      "1         Generic     12  2018-06-29  10.236.220.117   \n",
      "2        Capacity     11  2018-06-29  10.236.220.117   \n",
      "3         Generic      7  2018-06-29     avmsbusqlvm   \n",
      "4    Availability      7  2018-06-29  10.236.220.117   \n",
      "5        Capacity     18  2018-06-29     avmsbusqlvm   \n",
      "6     Performance     10  2018-06-29   10.236.220.18   \n",
      "7     Performance      2  2018-06-29    10.57.110.87   \n",
      "8     Performance      4  2018-06-29  10.236.220.117   \n",
      "9    Availability     10  2018-06-29   10.236.220.18   \n",
      "10   Availability      3  2018-06-29    10.57.110.87   \n",
      "11    Performance      7  2018-06-29     avmsbusqlvm   \n",
      "12        Generic      5  2018-06-29   10.236.220.18   \n",
      "13       Capacity     12  2018-06-29   10.236.220.18   \n",
      "14   Availability     11  2018-06-28     avmsbusqlvm   \n",
      "15        Generic     10  2018-06-28  10.236.220.117   \n",
      "16       Capacity      8  2018-06-28  10.236.220.117   \n",
      "17        Generic     12  2018-06-28     avmsbusqlvm   \n",
      "18   Availability      9  2018-06-28  10.236.220.117   \n",
      "19       Capacity     10  2018-06-28     avmsbusqlvm   \n",
      "20    Performance     18  2018-06-28   10.236.220.18   \n",
      "21    Performance      5  2018-06-28    10.57.110.87   \n",
      "22    Performance      9  2018-06-28  10.236.220.117   \n",
      "23   Availability     14  2018-06-28   10.236.220.18   \n",
      "24   Availability      6  2018-06-28    10.57.110.87   \n",
      "25    Performance     10  2018-06-28     avmsbusqlvm   \n",
      "26        Generic      9  2018-06-28   10.236.220.18   \n",
      "27       Capacity     10  2018-06-28   10.236.220.18   \n",
      "28   Availability     13  2018-06-27     avmsbusqlvm   \n",
      "29        Generic     12  2018-06-27  10.236.220.117   \n",
      "..            ...    ...         ...             ...   \n",
      "40        Generic      6  2018-06-27   10.236.220.18   \n",
      "41       Capacity      9  2018-06-27   10.236.220.18   \n",
      "42   Availability     18  2018-06-26     avmsbusqlvm   \n",
      "43        Generic     19  2018-06-26  10.236.220.117   \n",
      "44       Capacity     18  2018-06-26  10.236.220.117   \n",
      "45        Generic      7  2018-06-26     avmsbusqlvm   \n",
      "46   Availability      6  2018-06-26  10.236.220.117   \n",
      "47       Capacity     15  2018-06-26     avmsbusqlvm   \n",
      "48    Performance      8  2018-06-26   10.236.220.18   \n",
      "49    Performance     15  2018-06-26    10.57.110.87   \n",
      "50    Performance      8  2018-06-26  10.236.220.117   \n",
      "51   Availability      4  2018-06-26   10.236.220.18   \n",
      "52   Availability      9  2018-06-26    10.57.110.87   \n",
      "53    Performance     15  2018-06-26     avmsbusqlvm   \n",
      "54        Generic      7  2018-06-26   10.236.220.18   \n",
      "55       Capacity     15  2018-06-26   10.236.220.18   \n",
      "56   Availability      6  2018-06-25     avmsbusqlvm   \n",
      "57        Generic      8  2018-06-25  10.236.220.117   \n",
      "58       Capacity     14  2018-06-25  10.236.220.117   \n",
      "59        Generic      9  2018-06-25     avmsbusqlvm   \n",
      "60   Availability     10  2018-06-25  10.236.220.117   \n",
      "61       Capacity     14  2018-06-25     avmsbusqlvm   \n",
      "62    Performance      8  2018-06-25   10.236.220.18   \n",
      "63    Performance      8  2018-06-25    10.57.110.87   \n",
      "64    Performance      7  2018-06-25  10.236.220.117   \n",
      "65   Availability      4  2018-06-25   10.236.220.18   \n",
      "66   Availability     12  2018-06-25    10.57.110.87   \n",
      "67    Performance      8  2018-06-25     avmsbusqlvm   \n",
      "68        Generic     13  2018-06-25   10.236.220.18   \n",
      "69       Capacity     15  2018-06-25   10.236.220.18   \n",
      "\n",
      "                           entity  entity_code  date_code  \n",
      "0      avmsbusqlvm:-:Availability           10          4  \n",
      "1        10.236.220.117:-:Generic            2          4  \n",
      "2       10.236.220.117:-:Capacity            1          4  \n",
      "3           avmsbusqlvm:-:Generic           12          4  \n",
      "4   10.236.220.117:-:Availability            0          4  \n",
      "5          avmsbusqlvm:-:Capacity           11          4  \n",
      "6     10.236.220.18:-:Performance            7          4  \n",
      "7      10.57.110.87:-:Performance            9          4  \n",
      "8    10.236.220.117:-:Performance            3          4  \n",
      "9    10.236.220.18:-:Availability            4          4  \n",
      "10    10.57.110.87:-:Availability            8          4  \n",
      "11      avmsbusqlvm:-:Performance           13          4  \n",
      "12        10.236.220.18:-:Generic            6          4  \n",
      "13       10.236.220.18:-:Capacity            5          4  \n",
      "14     avmsbusqlvm:-:Availability           10          3  \n",
      "15       10.236.220.117:-:Generic            2          3  \n",
      "16      10.236.220.117:-:Capacity            1          3  \n",
      "17          avmsbusqlvm:-:Generic           12          3  \n",
      "18  10.236.220.117:-:Availability            0          3  \n",
      "19         avmsbusqlvm:-:Capacity           11          3  \n",
      "20    10.236.220.18:-:Performance            7          3  \n",
      "21     10.57.110.87:-:Performance            9          3  \n",
      "22   10.236.220.117:-:Performance            3          3  \n",
      "23   10.236.220.18:-:Availability            4          3  \n",
      "24    10.57.110.87:-:Availability            8          3  \n",
      "25      avmsbusqlvm:-:Performance           13          3  \n",
      "26        10.236.220.18:-:Generic            6          3  \n",
      "27       10.236.220.18:-:Capacity            5          3  \n",
      "28     avmsbusqlvm:-:Availability           10          2  \n",
      "29       10.236.220.117:-:Generic            2          2  \n",
      "..                            ...          ...        ...  \n",
      "40        10.236.220.18:-:Generic            6          2  \n",
      "41       10.236.220.18:-:Capacity            5          2  \n",
      "42     avmsbusqlvm:-:Availability           10          1  \n",
      "43       10.236.220.117:-:Generic            2          1  \n",
      "44      10.236.220.117:-:Capacity            1          1  \n",
      "45          avmsbusqlvm:-:Generic           12          1  \n",
      "46  10.236.220.117:-:Availability            0          1  \n",
      "47         avmsbusqlvm:-:Capacity           11          1  \n",
      "48    10.236.220.18:-:Performance            7          1  \n",
      "49     10.57.110.87:-:Performance            9          1  \n",
      "50   10.236.220.117:-:Performance            3          1  \n",
      "51   10.236.220.18:-:Availability            4          1  \n",
      "52    10.57.110.87:-:Availability            8          1  \n",
      "53      avmsbusqlvm:-:Performance           13          1  \n",
      "54        10.236.220.18:-:Generic            6          1  \n",
      "55       10.236.220.18:-:Capacity            5          1  \n",
      "56     avmsbusqlvm:-:Availability           10          0  \n",
      "57       10.236.220.117:-:Generic            2          0  \n",
      "58      10.236.220.117:-:Capacity            1          0  \n",
      "59          avmsbusqlvm:-:Generic           12          0  \n",
      "60  10.236.220.117:-:Availability            0          0  \n",
      "61         avmsbusqlvm:-:Capacity           11          0  \n",
      "62    10.236.220.18:-:Performance            7          0  \n",
      "63     10.57.110.87:-:Performance            9          0  \n",
      "64   10.236.220.117:-:Performance            3          0  \n",
      "65   10.236.220.18:-:Availability            4          0  \n",
      "66    10.57.110.87:-:Availability            8          0  \n",
      "67      avmsbusqlvm:-:Performance           13          0  \n",
      "68        10.236.220.18:-:Generic            6          0  \n",
      "69       10.236.220.18:-:Capacity            5          0  \n",
      "\n",
      "[70 rows x 7 columns]\n"
     ]
    }
   ],
   "source": [
    "df['entity']=df.resource + \":-:\"+df.classification\n",
    "df['entity_code']=pd.Categorical(df['entity']).codes\n",
    "df['date_code']=pd.Categorical(df['date']).codes\n",
    "X=df[['entity_code','date_code']]\n",
    "y=df['count']\n",
    "print(df)"
   ]
  },
  {
   "cell_type": "code",
   "execution_count": 110,
   "metadata": {},
   "outputs": [
    {
     "data": {
      "text/plain": [
       "LinearRegression(copy_X=True, fit_intercept=True, n_jobs=1, normalize=False)"
      ]
     },
     "execution_count": 110,
     "metadata": {},
     "output_type": "execute_result"
    }
   ],
   "source": [
    "# fit final model\n",
    "model = LinearRegression()\n",
    "model.fit(X, y)"
   ]
  },
  {
   "cell_type": "code",
   "execution_count": 125,
   "metadata": {},
   "outputs": [
    {
     "name": "stdout",
     "output_type": "stream",
     "text": [
      "[9.09945055 8.63516484 8.17087912 7.70659341]\n"
     ]
    }
   ],
   "source": [
    "pred_value=model.predict([[10,5],[10,6],[10,7],[10,8]])\n",
    "print(pred_value)"
   ]
  },
  {
   "cell_type": "code",
   "execution_count": 134,
   "metadata": {},
   "outputs": [
    {
     "name": "stdout",
     "output_type": "stream",
     "text": [
      "[9.09945055 8.63516484 8.17087912 7.70659341]\n"
     ]
    },
    {
     "data": {
      "image/png": "[encoded data removed]",
      "text/plain": [
       "<matplotlib.figure.Figure at 0x224ac97e1d0>"
      ]
     },
     "metadata": {},
     "output_type": "display_data"
    }
   ],
   "source": [
    "# plot the graph for the pattern\n",
    "%matplotlib inline\n",
    "import matplotlib.pyplot as plt\n",
    "print(pred_value)\n",
    "plt.plot(df[df['entity_code']==10]['date'],df[df['entity_code']==10]['count'],\"-\",['2018-06-30','2018-07-01','2018-07-03','2018-07-04'],pred_value,\"-\")\n",
    "plt.xlabel(\"Date\")\n",
    "plt.ylabel(\"Event Count\")\n",
    "plt.grid(True)\n",
    "plt.show()"
   ]
  },
  {
   "cell_type": "code",
   "execution_count": null,
   "metadata": {},
   "outputs": [],
   "source": []
  }
 ],
 "metadata": {
  "kernelspec": {
   "display_name": "Python 3",
   "language": "python",
   "name": "python3"
  },
  "language_info": {
   "codemirror_mode": {
    "name": "ipython",
    "version": 3
   },
   "file_extension": ".py",
   "mimetype": "text/x-python",
   "name": "python",
   "nbconvert_exporter": "python",
   "pygments_lexer": "ipython3",
   "version": "3.6.4"
  }
 },
 "nbformat": 4,
 "nbformat_minor": 2
}
