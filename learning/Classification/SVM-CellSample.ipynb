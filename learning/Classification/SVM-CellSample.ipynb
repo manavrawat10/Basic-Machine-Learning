{
 "cells": [
  {
   "cell_type": "code",
   "execution_count": 1,
   "metadata": {},
   "outputs": [
    {
     "data": {
      "text/html": [
       "<div>\n",
       "<style scoped>\n",
       "    .dataframe tbody tr th:only-of-type {\n",
       "        vertical-align: middle;\n",
       "    }\n",
       "\n",
       "    .dataframe tbody tr th {\n",
       "        vertical-align: top;\n",
       "    }\n",
       "\n",
       "    .dataframe thead th {\n",
       "        text-align: right;\n",
       "    }\n",
       "</style>\n",
       "<table border=\"1\" class=\"dataframe\">\n",
       "  <thead>\n",
       "    <tr style=\"text-align: right;\">\n",
       "      <th></th>\n",
       "      <th>ID</th>\n",
       "      <th>Clump</th>\n",
       "      <th>UnifSize</th>\n",
       "      <th>UnifShape</th>\n",
       "      <th>MargAdh</th>\n",
       "      <th>SingEpiSize</th>\n",
       "      <th>BareNuc</th>\n",
       "      <th>BlandChrom</th>\n",
       "      <th>NormNucl</th>\n",
       "      <th>Mit</th>\n",
       "      <th>Class</th>\n",
       "    </tr>\n",
       "  </thead>\n",
       "  <tbody>\n",
       "    <tr>\n",
       "      <th>0</th>\n",
       "      <td>1000025</td>\n",
       "      <td>5</td>\n",
       "      <td>1</td>\n",
       "      <td>1</td>\n",
       "      <td>1</td>\n",
       "      <td>2</td>\n",
       "      <td>1</td>\n",
       "      <td>3</td>\n",
       "      <td>1</td>\n",
       "      <td>1</td>\n",
       "      <td>2</td>\n",
       "    </tr>\n",
       "    <tr>\n",
       "      <th>1</th>\n",
       "      <td>1002945</td>\n",
       "      <td>5</td>\n",
       "      <td>4</td>\n",
       "      <td>4</td>\n",
       "      <td>5</td>\n",
       "      <td>7</td>\n",
       "      <td>10</td>\n",
       "      <td>3</td>\n",
       "      <td>2</td>\n",
       "      <td>1</td>\n",
       "      <td>2</td>\n",
       "    </tr>\n",
       "    <tr>\n",
       "      <th>2</th>\n",
       "      <td>1015425</td>\n",
       "      <td>3</td>\n",
       "      <td>1</td>\n",
       "      <td>1</td>\n",
       "      <td>1</td>\n",
       "      <td>2</td>\n",
       "      <td>2</td>\n",
       "      <td>3</td>\n",
       "      <td>1</td>\n",
       "      <td>1</td>\n",
       "      <td>2</td>\n",
       "    </tr>\n",
       "    <tr>\n",
       "      <th>3</th>\n",
       "      <td>1016277</td>\n",
       "      <td>6</td>\n",
       "      <td>8</td>\n",
       "      <td>8</td>\n",
       "      <td>1</td>\n",
       "      <td>3</td>\n",
       "      <td>4</td>\n",
       "      <td>3</td>\n",
       "      <td>7</td>\n",
       "      <td>1</td>\n",
       "      <td>2</td>\n",
       "    </tr>\n",
       "    <tr>\n",
       "      <th>4</th>\n",
       "      <td>1017023</td>\n",
       "      <td>4</td>\n",
       "      <td>1</td>\n",
       "      <td>1</td>\n",
       "      <td>3</td>\n",
       "      <td>2</td>\n",
       "      <td>1</td>\n",
       "      <td>3</td>\n",
       "      <td>1</td>\n",
       "      <td>1</td>\n",
       "      <td>2</td>\n",
       "    </tr>\n",
       "  </tbody>\n",
       "</table>\n",
       "</div>"
      ],
      "text/plain": [
       "        ID  Clump  UnifSize  UnifShape  MargAdh  SingEpiSize BareNuc  \\\n",
       "0  1000025      5         1          1        1            2       1   \n",
       "1  1002945      5         4          4        5            7      10   \n",
       "2  1015425      3         1          1        1            2       2   \n",
       "3  1016277      6         8          8        1            3       4   \n",
       "4  1017023      4         1          1        3            2       1   \n",
       "\n",
       "   BlandChrom  NormNucl  Mit  Class  \n",
       "0           3         1    1      2  \n",
       "1           3         2    1      2  \n",
       "2           3         1    1      2  \n",
       "3           3         7    1      2  \n",
       "4           3         1    1      2  "
      ]
     },
     "execution_count": 1,
     "metadata": {},
     "output_type": "execute_result"
    }
   ],
   "source": [
    "# import the data\n",
    "\n",
    "import pandas as pd\n",
    "df=pd.read_csv(\"cell_samples.csv\")\n",
    "df.head()"
   ]
  },
  {
   "cell_type": "code",
   "execution_count": 4,
   "metadata": {},
   "outputs": [
    {
     "name": "stdout",
     "output_type": "stream",
     "text": [
      "Class\n",
      "2    458\n",
      "4    241\n",
      "Name: Class, dtype: int64\n"
     ]
    },
    {
     "data": {
      "image/png": "[encoded data removed]",
      "text/plain": [
       "<matplotlib.figure.Figure at 0x1a1442e8748>"
      ]
     },
     "metadata": {},
     "output_type": "display_data"
    }
   ],
   "source": [
    "# check the distribution of data for class\n",
    "\n",
    "data=df.groupby('Class').Class.count()\n",
    "print(data)\n",
    "import matplotlib.pyplot as plt\n",
    "%matplotlib inline\n",
    "data.plot.bar()\n",
    "plt.show()"
   ]
  },
  {
   "cell_type": "code",
   "execution_count": 10,
   "metadata": {},
   "outputs": [
    {
     "name": "stdout",
     "output_type": "stream",
     "text": [
      "ID             int64\n",
      "Clump          int64\n",
      "UnifSize       int64\n",
      "UnifShape      int64\n",
      "MargAdh        int64\n",
      "SingEpiSize    int64\n",
      "BareNuc        int64\n",
      "BlandChrom     int64\n",
      "NormNucl       int64\n",
      "Mit            int64\n",
      "Class          int64\n",
      "barc_n         int64\n",
      "dtype: object\n",
      "ID             int64\n",
      "Clump          int64\n",
      "UnifSize       int64\n",
      "UnifShape      int64\n",
      "MargAdh        int64\n",
      "SingEpiSize    int64\n",
      "BareNuc        int64\n",
      "BlandChrom     int64\n",
      "NormNucl       int64\n",
      "Mit            int64\n",
      "Class          int64\n",
      "barc_n         int64\n",
      "dtype: object\n"
     ]
    }
   ],
   "source": [
    "# check the data types of each columns which is important and convert the object to int\n",
    "\n",
    "print(df.dtypes)\n",
    "df['BareNuc']=df['BareNuc'].factorize()[0]\n",
    "print(df.dtypes)"
   ]
  },
  {
   "cell_type": "code",
   "execution_count": 24,
   "metadata": {},
   "outputs": [
    {
     "name": "stdout",
     "output_type": "stream",
     "text": [
      "[[1000025       1       1       1       1]\n",
      " [1002945       4       4       5       2]\n",
      " [1015425       1       1       1       1]\n",
      " [1016277       8       8       1       7]\n",
      " [1017023       1       1       3       1]]\n",
      "[2 2 2 2 2]\n"
     ]
    }
   ],
   "source": [
    "# select the features which is important\n",
    "\n",
    "from sklearn.feature_selection import chi2,SelectKBest\n",
    "X=SelectKBest(chi2,k=5).fit_transform(df.drop('Class', axis=1), df[['Class']])\n",
    "print(X[:5])\n",
    "y=np.asarray(df['Class'])\n",
    "print(y[:5])"
   ]
  },
  {
   "cell_type": "code",
   "execution_count": 25,
   "metadata": {},
   "outputs": [
    {
     "name": "stdout",
     "output_type": "stream",
     "text": [
      "[[-0.11623873 -0.69999505 -0.74329904 -0.63324716 -0.61182504]\n",
      " [-0.1115035   0.28384518  0.2668747   0.76862067 -0.28411186]\n",
      " [-0.09126525 -0.69999505 -0.74329904 -0.63324716 -0.61182504]\n",
      " [-0.0898836   1.59563215  1.61377302 -0.63324716  1.35445405]\n",
      " [-0.08867385 -0.69999505 -0.74329904  0.06768675 -0.61182504]]\n",
      "[2 2 2 2 2]\n"
     ]
    },
    {
     "name": "stderr",
     "output_type": "stream",
     "text": [
      "C:\\Users\\Manav\\Anaconda3\\lib\\site-packages\\sklearn\\utils\\validation.py:475: DataConversionWarning: Data with input dtype int64 was converted to float64 by StandardScaler.\n",
      "  warnings.warn(msg, DataConversionWarning)\n"
     ]
    }
   ],
   "source": [
    "# normalize the data \n",
    "\n",
    "from sklearn.preprocessing import StandardScaler\n",
    "X=StandardScaler().fit(X).transform(X.astype('float'))\n",
    "print(X[:5])\n",
    "y=y.astype('int')\n",
    "print(y[:5])"
   ]
  },
  {
   "cell_type": "code",
   "execution_count": 26,
   "metadata": {},
   "outputs": [
    {
     "name": "stdout",
     "output_type": "stream",
     "text": [
      "Train data:  (524, 5) (175, 5)\n",
      "Test Data:  (524,) (175,)\n"
     ]
    }
   ],
   "source": [
    "# split the data and fit the model using SVM\n",
    "\n",
    "from sklearn.model_selection import train_test_split\n",
    "X_train,X_test,y_train,y_test=train_test_split(X,y)\n",
    "print(\"Train data: \", X_train.shape,X_test.shape)\n",
    "print(\"Test Data: \", y_train.shape,y_test.shape)"
   ]
  },
  {
   "cell_type": "code",
   "execution_count": 27,
   "metadata": {},
   "outputs": [
    {
     "data": {
      "text/plain": [
       "SVC(C=1.0, cache_size=200, class_weight=None, coef0=0.0,\n",
       "  decision_function_shape='ovr', degree=3, gamma='auto', kernel='rbf',\n",
       "  max_iter=-1, probability=False, random_state=None, shrinking=True,\n",
       "  tol=0.001, verbose=False)"
      ]
     },
     "execution_count": 27,
     "metadata": {},
     "output_type": "execute_result"
    }
   ],
   "source": [
    "# create SVM model and fit the model\n",
    "\n",
    "from sklearn.svm import SVC\n",
    "import numpy as np\n",
    "clf=SVC()\n",
    "clf.fit(X_train,y_train)"
   ]
  },
  {
   "cell_type": "code",
   "execution_count": 34,
   "metadata": {},
   "outputs": [
    {
     "name": "stdout",
     "output_type": "stream",
     "text": [
      "[2 2 4 2 2 2 2 4 2 2 2 2 2 2 2 2 4 2 2 2 2 2 2 4 2 2 4 2 2 2 4 2 2 2 4 2 2\n",
      " 2 2 2 2 4 2 2 2 4 2 4 2 4 4 2 2 2 4 2 2 2 4 4 4 2 2 2 4 2 2 4 2 4 4 4 4 2\n",
      " 2 2 2 2 2 4 4 2 2 2 4 4 4 2 2 2 2 4 4 4 2 4 2 4 4 4 2 2 2 2 4 4 4 4 4 4 2\n",
      " 4 2 2 4 2 4 4 2 4 2 2 4 2 2 2 2 4 4 4 4 2 4 2 2 4 2 2 2 2 2 4 2 4 2 4 4 2\n",
      " 2 2 4 2 2 2 4 4 2 2 4 2 4 4 4 2 2 4 2 2 4 2 2 2 4 4 2]\n",
      "[2 2 4 2 2 2 2 4 2 2 2 2 2 2 2 2 4 4 2 2 2 2 2 4 2 2 4 2 2 2 4 2 2 2 4 2 2\n",
      " 2 2 2 2 4 2 2 2 4 2 4 2 4 4 2 2 2 4 2 2 2 4 4 4 2 2 2 4 2 2 4 2 4 4 4 4 2\n",
      " 2 2 2 2 2 4 4 2 2 2 4 4 4 2 2 2 2 4 4 4 2 2 2 4 4 4 2 2 2 2 4 4 4 4 4 4 2\n",
      " 4 2 2 4 2 4 4 2 4 2 2 4 2 2 2 2 4 4 4 2 2 4 2 2 4 2 2 2 2 2 4 2 4 2 2 4 2\n",
      " 2 2 4 2 2 2 4 4 2 2 4 2 4 4 4 2 2 4 2 2 4 2 2 2 4 4 2]\n"
     ]
    }
   ],
   "source": [
    "# predict the model \n",
    "\n",
    "y_pred=clf.predict(X_test)\n",
    "print(y_pred)\n",
    "print(y_test)"
   ]
  },
  {
   "cell_type": "markdown",
   "metadata": {},
   "source": [
    "## Evalution of data"
   ]
  },
  {
   "cell_type": "code",
   "execution_count": 29,
   "metadata": {},
   "outputs": [
    {
     "name": "stdout",
     "output_type": "stream",
     "text": [
      "0.9771428571428571\n"
     ]
    }
   ],
   "source": [
    "# 1. jaccard \n",
    "\n",
    "from sklearn.metrics import jaccard_similarity_score\n",
    "print(jaccard_similarity_score(y_test,y_pred))"
   ]
  },
  {
   "cell_type": "code",
   "execution_count": 35,
   "metadata": {},
   "outputs": [
    {
     "name": "stdout",
     "output_type": "stream",
     "text": [
      "[[107   3]\n",
      " [  1  64]]\n"
     ]
    }
   ],
   "source": [
    "# 2. Confusion matrics\n",
    "\n",
    "from sklearn.metrics import confusion_matrix,f1_score,precision_score,recall_score,precision_recall_curve\n",
    "print(confusion_matrix(y_test,y_pred))"
   ]
  },
  {
   "cell_type": "markdown",
   "metadata": {},
   "source": [
    "## Calculate the best SVM model with different kernels and C values"
   ]
  },
  {
   "cell_type": "code",
   "execution_count": 43,
   "metadata": {},
   "outputs": [
    {
     "name": "stdout",
     "output_type": "stream",
     "text": [
      "Max score is:  0.9771428571428571\n",
      "Found for: rbf\n",
      "[0.9657142857142857, 0.8971428571428571, 0.9771428571428571, 0.9771428571428571]\n"
     ]
    },
    {
     "data": {
      "image/png": "[encoded data removed]",
      "text/plain": [
       "<matplotlib.figure.Figure at 0x1a14d1aaeb8>"
      ]
     },
     "metadata": {},
     "output_type": "display_data"
    }
   ],
   "source": [
    "ker=['linear','poly', 'rbf','sigmoid']\n",
    "score=[]\n",
    "for k in ker:\n",
    "    clf_new=SVC(kernel=k)\n",
    "    clf_new.fit(X_train,y_train)\n",
    "    score.append(jaccard_similarity_score(y_test,clf_new.predict(X_test)))\n",
    "print(\"Max score is: \",max(score))\n",
    "print(\"Found for:\", ker[score.index(max(score))])\n",
    "print(score)\n",
    "plt.plot(ker, score)\n",
    "plt.show()"
   ]
  },
  {
   "cell_type": "code",
   "execution_count": 44,
   "metadata": {},
   "outputs": [
    {
     "name": "stdout",
     "output_type": "stream",
     "text": [
      "Max score is:  0.9771428571428571\n",
      "Found for: 0\n",
      "[0.9771428571428571, 0.9771428571428571, 0.9771428571428571, 0.9771428571428571, 0.9771428571428571, 0.9771428571428571, 0.9771428571428571, 0.9771428571428571, 0.9771428571428571, 0.9771428571428571, 0.9771428571428571, 0.9771428571428571, 0.9771428571428571, 0.9771428571428571, 0.9771428571428571, 0.9771428571428571, 0.9771428571428571, 0.9771428571428571, 0.9771428571428571]\n"
     ]
    }
   ],
   "source": [
    "# change for C value\n",
    "\n",
    "c_range=range(1,20)\n",
    "score=[]\n",
    "for c in c_range:\n",
    "    clf_new=SVC(C=c)\n",
    "    clf_new.fit(X_train,y_train)\n",
    "    score.append(jaccard_similarity_score(y_test,clf_new.predict(X_test)))\n",
    "print(\"Max score is: \",max(score))\n",
    "print(\"Found for:\", score.index(max(score)))\n",
    "print(score)\n"
   ]
  },
  {
   "cell_type": "code",
   "execution_count": null,
   "metadata": {},
   "outputs": [],
   "source": []
  }
 ],
 "metadata": {
  "kernelspec": {
   "display_name": "Python 3",
   "language": "python",
   "name": "python3"
  },
  "language_info": {
   "codemirror_mode": {
    "name": "ipython",
    "version": 3
   },
   "file_extension": ".py",
   "mimetype": "text/x-python",
   "name": "python",
   "nbconvert_exporter": "python",
   "pygments_lexer": "ipython3",
   "version": "3.6.4"
  }
 },
 "nbformat": 4,
 "nbformat_minor": 2
}
